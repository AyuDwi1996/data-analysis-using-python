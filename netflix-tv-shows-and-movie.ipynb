{
 "cells": [
  {
   "cell_type": "code",
   "execution_count": 1,
   "id": "32c1e415",
   "metadata": {
    "_cell_guid": "b1076dfc-b9ad-4769-8c92-a6c4dae69d19",
    "_uuid": "8f2839f25d086af736a60e9eeb907d3b93b6e0e5",
    "execution": {
     "iopub.execute_input": "2023-01-16T08:47:24.003898Z",
     "iopub.status.busy": "2023-01-16T08:47:24.003382Z",
     "iopub.status.idle": "2023-01-16T08:47:24.025731Z",
     "shell.execute_reply": "2023-01-16T08:47:24.023832Z"
    },
    "papermill": {
     "duration": 0.033306,
     "end_time": "2023-01-16T08:47:24.028822",
     "exception": false,
     "start_time": "2023-01-16T08:47:23.995516",
     "status": "completed"
    },
    "tags": []
   },
   "outputs": [
    {
     "name": "stdout",
     "output_type": "stream",
     "text": [
      "/kaggle/input/netflix-tv-shows-and-movies/credits.csv\n",
      "/kaggle/input/netflix-tv-shows-and-movies/titles.csv\n"
     ]
    }
   ],
   "source": [
    "# This Python 3 environment comes with many helpful analytics libraries installed\n",
    "# It is defined by the kaggle/python Docker image: https://github.com/kaggle/docker-python\n",
    "# For example, here's several helpful packages to load\n",
    "\n",
    "\n",
    "import numpy as np # linear algebra\n",
    "import pandas as pd # data processing, CSV file I/O (e.g. pd.read_csv)\n",
    "\n",
    "# Input data files are available in the read-only \"../input/\" directory\n",
    "# For example, running this (by clicking run or pressing Shift+Enter) will list all files under the input directory\n",
    "\n",
    "import os\n",
    "for dirname, _, filenames in os.walk('/kaggle/input'):\n",
    "    for filename in filenames:\n",
    "        print(os.path.join(dirname, filename))\n",
    "\n",
    "# You can write up to 20GB to the current directory (/kaggle/working/) that gets preserved as output when you create a version using \"Save & Run All\" \n",
    "# You can also write temporary files to /kaggle/temp/, but they won't be saved outside of the current session"
   ]
  },
  {
   "cell_type": "markdown",
   "id": "12ac03b8",
   "metadata": {
    "papermill": {
     "duration": 0.004849,
     "end_time": "2023-01-16T08:47:24.039497",
     "exception": false,
     "start_time": "2023-01-16T08:47:24.034648",
     "status": "completed"
    },
    "tags": []
   },
   "source": [
    "# **Step 1-Loading data from csv files**"
   ]
  },
  {
   "cell_type": "code",
   "execution_count": 2,
   "id": "c15b84ed",
   "metadata": {
    "execution": {
     "iopub.execute_input": "2023-01-16T08:47:24.051474Z",
     "iopub.status.busy": "2023-01-16T08:47:24.051070Z",
     "iopub.status.idle": "2023-01-16T08:47:24.369802Z",
     "shell.execute_reply": "2023-01-16T08:47:24.368618Z"
    },
    "papermill": {
     "duration": 0.328108,
     "end_time": "2023-01-16T08:47:24.372639",
     "exception": false,
     "start_time": "2023-01-16T08:47:24.044531",
     "status": "completed"
    },
    "tags": []
   },
   "outputs": [],
   "source": [
    "credits = pd.read_csv('/kaggle/input/netflix-tv-shows-and-movies/credits.csv')\n",
    "titles = pd.read_csv('/kaggle/input/netflix-tv-shows-and-movies/titles.csv')"
   ]
  },
  {
   "cell_type": "markdown",
   "id": "36ca2337",
   "metadata": {
    "papermill": {
     "duration": 0.004729,
     "end_time": "2023-01-16T08:47:24.382389",
     "exception": false,
     "start_time": "2023-01-16T08:47:24.377660",
     "status": "completed"
    },
    "tags": []
   },
   "source": [
    "# **Step 2-Analyzing basic information of data sets**"
   ]
  },
  {
   "cell_type": "markdown",
   "id": "f4b4ec34",
   "metadata": {
    "papermill": {
     "duration": 0.004613,
     "end_time": "2023-01-16T08:47:24.391974",
     "exception": false,
     "start_time": "2023-01-16T08:47:24.387361",
     "status": "completed"
    },
    "tags": []
   },
   "source": [
    "> **2.1- columns and data type**"
   ]
  },
  {
   "cell_type": "code",
   "execution_count": 3,
   "id": "487b0dd0",
   "metadata": {
    "execution": {
     "iopub.execute_input": "2023-01-16T08:47:24.403861Z",
     "iopub.status.busy": "2023-01-16T08:47:24.403441Z",
     "iopub.status.idle": "2023-01-16T08:47:24.448654Z",
     "shell.execute_reply": "2023-01-16T08:47:24.447472Z"
    },
    "papermill": {
     "duration": 0.055643,
     "end_time": "2023-01-16T08:47:24.452537",
     "exception": false,
     "start_time": "2023-01-16T08:47:24.396894",
     "status": "completed"
    },
    "tags": []
   },
   "outputs": [
    {
     "name": "stdout",
     "output_type": "stream",
     "text": [
      "<class 'pandas.core.frame.DataFrame'>\n",
      "RangeIndex: 77801 entries, 0 to 77800\n",
      "Data columns (total 5 columns):\n",
      " #   Column     Non-Null Count  Dtype \n",
      "---  ------     --------------  ----- \n",
      " 0   person_id  77801 non-null  int64 \n",
      " 1   id         77801 non-null  object\n",
      " 2   name       77801 non-null  object\n",
      " 3   character  68029 non-null  object\n",
      " 4   role       77801 non-null  object\n",
      "dtypes: int64(1), object(4)\n",
      "memory usage: 3.0+ MB\n"
     ]
    }
   ],
   "source": [
    "credits.info()"
   ]
  },
  {
   "cell_type": "code",
   "execution_count": 4,
   "id": "5256678d",
   "metadata": {
    "execution": {
     "iopub.execute_input": "2023-01-16T08:47:24.465403Z",
     "iopub.status.busy": "2023-01-16T08:47:24.464991Z",
     "iopub.status.idle": "2023-01-16T08:47:24.486030Z",
     "shell.execute_reply": "2023-01-16T08:47:24.484476Z"
    },
    "papermill": {
     "duration": 0.030876,
     "end_time": "2023-01-16T08:47:24.489264",
     "exception": false,
     "start_time": "2023-01-16T08:47:24.458388",
     "status": "completed"
    },
    "tags": []
   },
   "outputs": [
    {
     "name": "stdout",
     "output_type": "stream",
     "text": [
      "<class 'pandas.core.frame.DataFrame'>\n",
      "RangeIndex: 5850 entries, 0 to 5849\n",
      "Data columns (total 15 columns):\n",
      " #   Column                Non-Null Count  Dtype  \n",
      "---  ------                --------------  -----  \n",
      " 0   id                    5850 non-null   object \n",
      " 1   title                 5849 non-null   object \n",
      " 2   type                  5850 non-null   object \n",
      " 3   description           5832 non-null   object \n",
      " 4   release_year          5850 non-null   int64  \n",
      " 5   age_certification     3231 non-null   object \n",
      " 6   runtime               5850 non-null   int64  \n",
      " 7   genres                5850 non-null   object \n",
      " 8   production_countries  5850 non-null   object \n",
      " 9   seasons               2106 non-null   float64\n",
      " 10  imdb_id               5447 non-null   object \n",
      " 11  imdb_score            5368 non-null   float64\n",
      " 12  imdb_votes            5352 non-null   float64\n",
      " 13  tmdb_popularity       5759 non-null   float64\n",
      " 14  tmdb_score            5539 non-null   float64\n",
      "dtypes: float64(5), int64(2), object(8)\n",
      "memory usage: 685.7+ KB\n"
     ]
    }
   ],
   "source": [
    "titles.info()"
   ]
  },
  {
   "cell_type": "markdown",
   "id": "2f9c82e6",
   "metadata": {
    "papermill": {
     "duration": 0.004876,
     "end_time": "2023-01-16T08:47:24.499376",
     "exception": false,
     "start_time": "2023-01-16T08:47:24.494500",
     "status": "completed"
    },
    "tags": []
   },
   "source": [
    "> **2.2- sample data**"
   ]
  },
  {
   "cell_type": "code",
   "execution_count": 5,
   "id": "d95fe4c4",
   "metadata": {
    "execution": {
     "iopub.execute_input": "2023-01-16T08:47:24.511254Z",
     "iopub.status.busy": "2023-01-16T08:47:24.510850Z",
     "iopub.status.idle": "2023-01-16T08:47:24.528367Z",
     "shell.execute_reply": "2023-01-16T08:47:24.527477Z"
    },
    "papermill": {
     "duration": 0.026071,
     "end_time": "2023-01-16T08:47:24.530587",
     "exception": false,
     "start_time": "2023-01-16T08:47:24.504516",
     "status": "completed"
    },
    "tags": []
   },
   "outputs": [
    {
     "data": {
      "text/html": [
       "<div>\n",
       "<style scoped>\n",
       "    .dataframe tbody tr th:only-of-type {\n",
       "        vertical-align: middle;\n",
       "    }\n",
       "\n",
       "    .dataframe tbody tr th {\n",
       "        vertical-align: top;\n",
       "    }\n",
       "\n",
       "    .dataframe thead th {\n",
       "        text-align: right;\n",
       "    }\n",
       "</style>\n",
       "<table border=\"1\" class=\"dataframe\">\n",
       "  <thead>\n",
       "    <tr style=\"text-align: right;\">\n",
       "      <th></th>\n",
       "      <th>person_id</th>\n",
       "      <th>id</th>\n",
       "      <th>name</th>\n",
       "      <th>character</th>\n",
       "      <th>role</th>\n",
       "    </tr>\n",
       "  </thead>\n",
       "  <tbody>\n",
       "    <tr>\n",
       "      <th>0</th>\n",
       "      <td>3748</td>\n",
       "      <td>tm84618</td>\n",
       "      <td>Robert De Niro</td>\n",
       "      <td>Travis Bickle</td>\n",
       "      <td>ACTOR</td>\n",
       "    </tr>\n",
       "    <tr>\n",
       "      <th>1</th>\n",
       "      <td>14658</td>\n",
       "      <td>tm84618</td>\n",
       "      <td>Jodie Foster</td>\n",
       "      <td>Iris Steensma</td>\n",
       "      <td>ACTOR</td>\n",
       "    </tr>\n",
       "    <tr>\n",
       "      <th>2</th>\n",
       "      <td>7064</td>\n",
       "      <td>tm84618</td>\n",
       "      <td>Albert Brooks</td>\n",
       "      <td>Tom</td>\n",
       "      <td>ACTOR</td>\n",
       "    </tr>\n",
       "    <tr>\n",
       "      <th>3</th>\n",
       "      <td>3739</td>\n",
       "      <td>tm84618</td>\n",
       "      <td>Harvey Keitel</td>\n",
       "      <td>Matthew 'Sport' Higgins</td>\n",
       "      <td>ACTOR</td>\n",
       "    </tr>\n",
       "    <tr>\n",
       "      <th>4</th>\n",
       "      <td>48933</td>\n",
       "      <td>tm84618</td>\n",
       "      <td>Cybill Shepherd</td>\n",
       "      <td>Betsy</td>\n",
       "      <td>ACTOR</td>\n",
       "    </tr>\n",
       "  </tbody>\n",
       "</table>\n",
       "</div>"
      ],
      "text/plain": [
       "   person_id       id             name                character   role\n",
       "0       3748  tm84618   Robert De Niro            Travis Bickle  ACTOR\n",
       "1      14658  tm84618     Jodie Foster            Iris Steensma  ACTOR\n",
       "2       7064  tm84618    Albert Brooks                      Tom  ACTOR\n",
       "3       3739  tm84618    Harvey Keitel  Matthew 'Sport' Higgins  ACTOR\n",
       "4      48933  tm84618  Cybill Shepherd                    Betsy  ACTOR"
      ]
     },
     "execution_count": 5,
     "metadata": {},
     "output_type": "execute_result"
    }
   ],
   "source": [
    "credits.head()"
   ]
  },
  {
   "cell_type": "code",
   "execution_count": 6,
   "id": "fe5ae419",
   "metadata": {
    "execution": {
     "iopub.execute_input": "2023-01-16T08:47:24.545757Z",
     "iopub.status.busy": "2023-01-16T08:47:24.545301Z",
     "iopub.status.idle": "2023-01-16T08:47:24.567043Z",
     "shell.execute_reply": "2023-01-16T08:47:24.566065Z"
    },
    "papermill": {
     "duration": 0.032922,
     "end_time": "2023-01-16T08:47:24.569437",
     "exception": false,
     "start_time": "2023-01-16T08:47:24.536515",
     "status": "completed"
    },
    "tags": []
   },
   "outputs": [
    {
     "data": {
      "text/html": [
       "<div>\n",
       "<style scoped>\n",
       "    .dataframe tbody tr th:only-of-type {\n",
       "        vertical-align: middle;\n",
       "    }\n",
       "\n",
       "    .dataframe tbody tr th {\n",
       "        vertical-align: top;\n",
       "    }\n",
       "\n",
       "    .dataframe thead th {\n",
       "        text-align: right;\n",
       "    }\n",
       "</style>\n",
       "<table border=\"1\" class=\"dataframe\">\n",
       "  <thead>\n",
       "    <tr style=\"text-align: right;\">\n",
       "      <th></th>\n",
       "      <th>id</th>\n",
       "      <th>title</th>\n",
       "      <th>type</th>\n",
       "      <th>description</th>\n",
       "      <th>release_year</th>\n",
       "      <th>age_certification</th>\n",
       "      <th>runtime</th>\n",
       "      <th>genres</th>\n",
       "      <th>production_countries</th>\n",
       "      <th>seasons</th>\n",
       "      <th>imdb_id</th>\n",
       "      <th>imdb_score</th>\n",
       "      <th>imdb_votes</th>\n",
       "      <th>tmdb_popularity</th>\n",
       "      <th>tmdb_score</th>\n",
       "    </tr>\n",
       "  </thead>\n",
       "  <tbody>\n",
       "    <tr>\n",
       "      <th>0</th>\n",
       "      <td>ts300399</td>\n",
       "      <td>Five Came Back: The Reference Films</td>\n",
       "      <td>SHOW</td>\n",
       "      <td>This collection includes 12 World War II-era p...</td>\n",
       "      <td>1945</td>\n",
       "      <td>TV-MA</td>\n",
       "      <td>51</td>\n",
       "      <td>['documentation']</td>\n",
       "      <td>['US']</td>\n",
       "      <td>1.0</td>\n",
       "      <td>NaN</td>\n",
       "      <td>NaN</td>\n",
       "      <td>NaN</td>\n",
       "      <td>0.600</td>\n",
       "      <td>NaN</td>\n",
       "    </tr>\n",
       "    <tr>\n",
       "      <th>1</th>\n",
       "      <td>tm84618</td>\n",
       "      <td>Taxi Driver</td>\n",
       "      <td>MOVIE</td>\n",
       "      <td>A mentally unstable Vietnam War veteran works ...</td>\n",
       "      <td>1976</td>\n",
       "      <td>R</td>\n",
       "      <td>114</td>\n",
       "      <td>['drama', 'crime']</td>\n",
       "      <td>['US']</td>\n",
       "      <td>NaN</td>\n",
       "      <td>tt0075314</td>\n",
       "      <td>8.2</td>\n",
       "      <td>808582.0</td>\n",
       "      <td>40.965</td>\n",
       "      <td>8.179</td>\n",
       "    </tr>\n",
       "    <tr>\n",
       "      <th>2</th>\n",
       "      <td>tm154986</td>\n",
       "      <td>Deliverance</td>\n",
       "      <td>MOVIE</td>\n",
       "      <td>Intent on seeing the Cahulawassee River before...</td>\n",
       "      <td>1972</td>\n",
       "      <td>R</td>\n",
       "      <td>109</td>\n",
       "      <td>['drama', 'action', 'thriller', 'european']</td>\n",
       "      <td>['US']</td>\n",
       "      <td>NaN</td>\n",
       "      <td>tt0068473</td>\n",
       "      <td>7.7</td>\n",
       "      <td>107673.0</td>\n",
       "      <td>10.010</td>\n",
       "      <td>7.300</td>\n",
       "    </tr>\n",
       "    <tr>\n",
       "      <th>3</th>\n",
       "      <td>tm127384</td>\n",
       "      <td>Monty Python and the Holy Grail</td>\n",
       "      <td>MOVIE</td>\n",
       "      <td>King Arthur, accompanied by his squire, recrui...</td>\n",
       "      <td>1975</td>\n",
       "      <td>PG</td>\n",
       "      <td>91</td>\n",
       "      <td>['fantasy', 'action', 'comedy']</td>\n",
       "      <td>['GB']</td>\n",
       "      <td>NaN</td>\n",
       "      <td>tt0071853</td>\n",
       "      <td>8.2</td>\n",
       "      <td>534486.0</td>\n",
       "      <td>15.461</td>\n",
       "      <td>7.811</td>\n",
       "    </tr>\n",
       "    <tr>\n",
       "      <th>4</th>\n",
       "      <td>tm120801</td>\n",
       "      <td>The Dirty Dozen</td>\n",
       "      <td>MOVIE</td>\n",
       "      <td>12 American military prisoners in World War II...</td>\n",
       "      <td>1967</td>\n",
       "      <td>NaN</td>\n",
       "      <td>150</td>\n",
       "      <td>['war', 'action']</td>\n",
       "      <td>['GB', 'US']</td>\n",
       "      <td>NaN</td>\n",
       "      <td>tt0061578</td>\n",
       "      <td>7.7</td>\n",
       "      <td>72662.0</td>\n",
       "      <td>20.398</td>\n",
       "      <td>7.600</td>\n",
       "    </tr>\n",
       "  </tbody>\n",
       "</table>\n",
       "</div>"
      ],
      "text/plain": [
       "         id                                title   type  \\\n",
       "0  ts300399  Five Came Back: The Reference Films   SHOW   \n",
       "1   tm84618                          Taxi Driver  MOVIE   \n",
       "2  tm154986                          Deliverance  MOVIE   \n",
       "3  tm127384      Monty Python and the Holy Grail  MOVIE   \n",
       "4  tm120801                      The Dirty Dozen  MOVIE   \n",
       "\n",
       "                                         description  release_year  \\\n",
       "0  This collection includes 12 World War II-era p...          1945   \n",
       "1  A mentally unstable Vietnam War veteran works ...          1976   \n",
       "2  Intent on seeing the Cahulawassee River before...          1972   \n",
       "3  King Arthur, accompanied by his squire, recrui...          1975   \n",
       "4  12 American military prisoners in World War II...          1967   \n",
       "\n",
       "  age_certification  runtime                                       genres  \\\n",
       "0             TV-MA       51                            ['documentation']   \n",
       "1                 R      114                           ['drama', 'crime']   \n",
       "2                 R      109  ['drama', 'action', 'thriller', 'european']   \n",
       "3                PG       91              ['fantasy', 'action', 'comedy']   \n",
       "4               NaN      150                            ['war', 'action']   \n",
       "\n",
       "  production_countries  seasons    imdb_id  imdb_score  imdb_votes  \\\n",
       "0               ['US']      1.0        NaN         NaN         NaN   \n",
       "1               ['US']      NaN  tt0075314         8.2    808582.0   \n",
       "2               ['US']      NaN  tt0068473         7.7    107673.0   \n",
       "3               ['GB']      NaN  tt0071853         8.2    534486.0   \n",
       "4         ['GB', 'US']      NaN  tt0061578         7.7     72662.0   \n",
       "\n",
       "   tmdb_popularity  tmdb_score  \n",
       "0            0.600         NaN  \n",
       "1           40.965       8.179  \n",
       "2           10.010       7.300  \n",
       "3           15.461       7.811  \n",
       "4           20.398       7.600  "
      ]
     },
     "execution_count": 6,
     "metadata": {},
     "output_type": "execute_result"
    }
   ],
   "source": [
    "titles.head()"
   ]
  },
  {
   "cell_type": "markdown",
   "id": "136e2d15",
   "metadata": {
    "papermill": {
     "duration": 0.006212,
     "end_time": "2023-01-16T08:47:24.581899",
     "exception": false,
     "start_time": "2023-01-16T08:47:24.575687",
     "status": "completed"
    },
    "tags": []
   },
   "source": [
    "> **2.3- Descriptive Analysis of data**"
   ]
  },
  {
   "cell_type": "code",
   "execution_count": 7,
   "id": "f251ad4a",
   "metadata": {
    "execution": {
     "iopub.execute_input": "2023-01-16T08:47:24.596312Z",
     "iopub.status.busy": "2023-01-16T08:47:24.595865Z",
     "iopub.status.idle": "2023-01-16T08:47:24.620424Z",
     "shell.execute_reply": "2023-01-16T08:47:24.619251Z"
    },
    "papermill": {
     "duration": 0.03542,
     "end_time": "2023-01-16T08:47:24.623119",
     "exception": false,
     "start_time": "2023-01-16T08:47:24.587699",
     "status": "completed"
    },
    "tags": []
   },
   "outputs": [
    {
     "data": {
      "text/html": [
       "<div>\n",
       "<style scoped>\n",
       "    .dataframe tbody tr th:only-of-type {\n",
       "        vertical-align: middle;\n",
       "    }\n",
       "\n",
       "    .dataframe tbody tr th {\n",
       "        vertical-align: top;\n",
       "    }\n",
       "\n",
       "    .dataframe thead th {\n",
       "        text-align: right;\n",
       "    }\n",
       "</style>\n",
       "<table border=\"1\" class=\"dataframe\">\n",
       "  <thead>\n",
       "    <tr style=\"text-align: right;\">\n",
       "      <th></th>\n",
       "      <th>person_id</th>\n",
       "    </tr>\n",
       "  </thead>\n",
       "  <tbody>\n",
       "    <tr>\n",
       "      <th>count</th>\n",
       "      <td>7.780100e+04</td>\n",
       "    </tr>\n",
       "    <tr>\n",
       "      <th>mean</th>\n",
       "      <td>5.294888e+05</td>\n",
       "    </tr>\n",
       "    <tr>\n",
       "      <th>std</th>\n",
       "      <td>6.430167e+05</td>\n",
       "    </tr>\n",
       "    <tr>\n",
       "      <th>min</th>\n",
       "      <td>7.000000e+00</td>\n",
       "    </tr>\n",
       "    <tr>\n",
       "      <th>25%</th>\n",
       "      <td>4.530600e+04</td>\n",
       "    </tr>\n",
       "    <tr>\n",
       "      <th>50%</th>\n",
       "      <td>1.983580e+05</td>\n",
       "    </tr>\n",
       "    <tr>\n",
       "      <th>75%</th>\n",
       "      <td>8.880960e+05</td>\n",
       "    </tr>\n",
       "    <tr>\n",
       "      <th>max</th>\n",
       "      <td>2.462818e+06</td>\n",
       "    </tr>\n",
       "  </tbody>\n",
       "</table>\n",
       "</div>"
      ],
      "text/plain": [
       "          person_id\n",
       "count  7.780100e+04\n",
       "mean   5.294888e+05\n",
       "std    6.430167e+05\n",
       "min    7.000000e+00\n",
       "25%    4.530600e+04\n",
       "50%    1.983580e+05\n",
       "75%    8.880960e+05\n",
       "max    2.462818e+06"
      ]
     },
     "execution_count": 7,
     "metadata": {},
     "output_type": "execute_result"
    }
   ],
   "source": [
    "credits.describe()"
   ]
  },
  {
   "cell_type": "code",
   "execution_count": 8,
   "id": "3b900773",
   "metadata": {
    "execution": {
     "iopub.execute_input": "2023-01-16T08:47:24.637029Z",
     "iopub.status.busy": "2023-01-16T08:47:24.636336Z",
     "iopub.status.idle": "2023-01-16T08:47:24.677918Z",
     "shell.execute_reply": "2023-01-16T08:47:24.675115Z"
    },
    "papermill": {
     "duration": 0.05314,
     "end_time": "2023-01-16T08:47:24.682279",
     "exception": false,
     "start_time": "2023-01-16T08:47:24.629139",
     "status": "completed"
    },
    "tags": []
   },
   "outputs": [
    {
     "data": {
      "text/html": [
       "<div>\n",
       "<style scoped>\n",
       "    .dataframe tbody tr th:only-of-type {\n",
       "        vertical-align: middle;\n",
       "    }\n",
       "\n",
       "    .dataframe tbody tr th {\n",
       "        vertical-align: top;\n",
       "    }\n",
       "\n",
       "    .dataframe thead th {\n",
       "        text-align: right;\n",
       "    }\n",
       "</style>\n",
       "<table border=\"1\" class=\"dataframe\">\n",
       "  <thead>\n",
       "    <tr style=\"text-align: right;\">\n",
       "      <th></th>\n",
       "      <th>release_year</th>\n",
       "      <th>runtime</th>\n",
       "      <th>seasons</th>\n",
       "      <th>imdb_score</th>\n",
       "      <th>imdb_votes</th>\n",
       "      <th>tmdb_popularity</th>\n",
       "      <th>tmdb_score</th>\n",
       "    </tr>\n",
       "  </thead>\n",
       "  <tbody>\n",
       "    <tr>\n",
       "      <th>count</th>\n",
       "      <td>5850.000000</td>\n",
       "      <td>5850.000000</td>\n",
       "      <td>2106.000000</td>\n",
       "      <td>5368.000000</td>\n",
       "      <td>5.352000e+03</td>\n",
       "      <td>5759.000000</td>\n",
       "      <td>5539.000000</td>\n",
       "    </tr>\n",
       "    <tr>\n",
       "      <th>mean</th>\n",
       "      <td>2016.417094</td>\n",
       "      <td>76.888889</td>\n",
       "      <td>2.162868</td>\n",
       "      <td>6.510861</td>\n",
       "      <td>2.343938e+04</td>\n",
       "      <td>22.637925</td>\n",
       "      <td>6.829175</td>\n",
       "    </tr>\n",
       "    <tr>\n",
       "      <th>std</th>\n",
       "      <td>6.937726</td>\n",
       "      <td>39.002509</td>\n",
       "      <td>2.689041</td>\n",
       "      <td>1.163826</td>\n",
       "      <td>9.582047e+04</td>\n",
       "      <td>81.680263</td>\n",
       "      <td>1.170391</td>\n",
       "    </tr>\n",
       "    <tr>\n",
       "      <th>min</th>\n",
       "      <td>1945.000000</td>\n",
       "      <td>0.000000</td>\n",
       "      <td>1.000000</td>\n",
       "      <td>1.500000</td>\n",
       "      <td>5.000000e+00</td>\n",
       "      <td>0.009442</td>\n",
       "      <td>0.500000</td>\n",
       "    </tr>\n",
       "    <tr>\n",
       "      <th>25%</th>\n",
       "      <td>2016.000000</td>\n",
       "      <td>44.000000</td>\n",
       "      <td>1.000000</td>\n",
       "      <td>5.800000</td>\n",
       "      <td>5.167500e+02</td>\n",
       "      <td>2.728500</td>\n",
       "      <td>6.100000</td>\n",
       "    </tr>\n",
       "    <tr>\n",
       "      <th>50%</th>\n",
       "      <td>2018.000000</td>\n",
       "      <td>83.000000</td>\n",
       "      <td>1.000000</td>\n",
       "      <td>6.600000</td>\n",
       "      <td>2.233500e+03</td>\n",
       "      <td>6.821000</td>\n",
       "      <td>6.900000</td>\n",
       "    </tr>\n",
       "    <tr>\n",
       "      <th>75%</th>\n",
       "      <td>2020.000000</td>\n",
       "      <td>104.000000</td>\n",
       "      <td>2.000000</td>\n",
       "      <td>7.300000</td>\n",
       "      <td>9.494000e+03</td>\n",
       "      <td>16.590000</td>\n",
       "      <td>7.537500</td>\n",
       "    </tr>\n",
       "    <tr>\n",
       "      <th>max</th>\n",
       "      <td>2022.000000</td>\n",
       "      <td>240.000000</td>\n",
       "      <td>42.000000</td>\n",
       "      <td>9.600000</td>\n",
       "      <td>2.294231e+06</td>\n",
       "      <td>2274.044000</td>\n",
       "      <td>10.000000</td>\n",
       "    </tr>\n",
       "  </tbody>\n",
       "</table>\n",
       "</div>"
      ],
      "text/plain": [
       "       release_year      runtime      seasons   imdb_score    imdb_votes  \\\n",
       "count   5850.000000  5850.000000  2106.000000  5368.000000  5.352000e+03   \n",
       "mean    2016.417094    76.888889     2.162868     6.510861  2.343938e+04   \n",
       "std        6.937726    39.002509     2.689041     1.163826  9.582047e+04   \n",
       "min     1945.000000     0.000000     1.000000     1.500000  5.000000e+00   \n",
       "25%     2016.000000    44.000000     1.000000     5.800000  5.167500e+02   \n",
       "50%     2018.000000    83.000000     1.000000     6.600000  2.233500e+03   \n",
       "75%     2020.000000   104.000000     2.000000     7.300000  9.494000e+03   \n",
       "max     2022.000000   240.000000    42.000000     9.600000  2.294231e+06   \n",
       "\n",
       "       tmdb_popularity   tmdb_score  \n",
       "count      5759.000000  5539.000000  \n",
       "mean         22.637925     6.829175  \n",
       "std          81.680263     1.170391  \n",
       "min           0.009442     0.500000  \n",
       "25%           2.728500     6.100000  \n",
       "50%           6.821000     6.900000  \n",
       "75%          16.590000     7.537500  \n",
       "max        2274.044000    10.000000  "
      ]
     },
     "execution_count": 8,
     "metadata": {},
     "output_type": "execute_result"
    }
   ],
   "source": [
    "titles.describe()"
   ]
  },
  {
   "cell_type": "markdown",
   "id": "b5e68d9f",
   "metadata": {
    "papermill": {
     "duration": 0.006851,
     "end_time": "2023-01-16T08:47:24.697113",
     "exception": false,
     "start_time": "2023-01-16T08:47:24.690262",
     "status": "completed"
    },
    "tags": []
   },
   "source": [
    "> **2.4- Analyzing unique and null values**"
   ]
  },
  {
   "cell_type": "code",
   "execution_count": 9,
   "id": "8b44dbc1",
   "metadata": {
    "execution": {
     "iopub.execute_input": "2023-01-16T08:47:24.713429Z",
     "iopub.status.busy": "2023-01-16T08:47:24.712860Z",
     "iopub.status.idle": "2023-01-16T08:47:24.796342Z",
     "shell.execute_reply": "2023-01-16T08:47:24.794778Z"
    },
    "papermill": {
     "duration": 0.094303,
     "end_time": "2023-01-16T08:47:24.799215",
     "exception": false,
     "start_time": "2023-01-16T08:47:24.704912",
     "status": "completed"
    },
    "tags": []
   },
   "outputs": [
    {
     "name": "stdout",
     "output_type": "stream",
     "text": [
      "Shape of the dataset credits:  (77801, 5)\n",
      "Null values in credits: \n",
      "person_id       0\n",
      "id              0\n",
      "name            0\n",
      "character    9772\n",
      "role            0\n",
      "dtype: int64\n",
      "Number of unique values: \n",
      "person_id    54589\n",
      "id            5489\n",
      "name         54314\n",
      "character    47274\n",
      "role             2\n",
      "dtype: int64\n"
     ]
    }
   ],
   "source": [
    "print(\"Shape of the dataset credits: \",credits.shape)\n",
    "print(\"Null values in credits: \")\n",
    "print(credits.isnull().sum())\n",
    "print(\"Number of unique values: \")\n",
    "print(credits.nunique())"
   ]
  },
  {
   "cell_type": "code",
   "execution_count": 10,
   "id": "f3a9bbe4",
   "metadata": {
    "execution": {
     "iopub.execute_input": "2023-01-16T08:47:24.813470Z",
     "iopub.status.busy": "2023-01-16T08:47:24.813070Z",
     "iopub.status.idle": "2023-01-16T08:47:24.840473Z",
     "shell.execute_reply": "2023-01-16T08:47:24.838782Z"
    },
    "papermill": {
     "duration": 0.038031,
     "end_time": "2023-01-16T08:47:24.843469",
     "exception": false,
     "start_time": "2023-01-16T08:47:24.805438",
     "status": "completed"
    },
    "tags": []
   },
   "outputs": [
    {
     "name": "stdout",
     "output_type": "stream",
     "text": [
      "Shape of the dataset titles:  (5850, 15)\n",
      "Null values in titles: \n",
      "id                         0\n",
      "title                      1\n",
      "type                       0\n",
      "description               18\n",
      "release_year               0\n",
      "age_certification       2619\n",
      "runtime                    0\n",
      "genres                     0\n",
      "production_countries       0\n",
      "seasons                 3744\n",
      "imdb_id                  403\n",
      "imdb_score               482\n",
      "imdb_votes               498\n",
      "tmdb_popularity           91\n",
      "tmdb_score               311\n",
      "dtype: int64\n",
      "Number of unique values: \n",
      "id                      5850\n",
      "title                   5798\n",
      "type                       2\n",
      "description             5829\n",
      "release_year              63\n",
      "age_certification         11\n",
      "runtime                  202\n",
      "genres                  1726\n",
      "production_countries     452\n",
      "seasons                   26\n",
      "imdb_id                 5447\n",
      "imdb_score                80\n",
      "imdb_votes              3880\n",
      "tmdb_popularity         4889\n",
      "tmdb_score               394\n",
      "dtype: int64\n"
     ]
    }
   ],
   "source": [
    "print(\"Shape of the dataset titles: \",titles.shape)\n",
    "print(\"Null values in titles: \")\n",
    "print(titles.isnull().sum())\n",
    "print(\"Number of unique values: \")\n",
    "print(titles.nunique())"
   ]
  },
  {
   "cell_type": "markdown",
   "id": "fb3ff26a",
   "metadata": {
    "papermill": {
     "duration": 0.005852,
     "end_time": "2023-01-16T08:47:24.855648",
     "exception": false,
     "start_time": "2023-01-16T08:47:24.849796",
     "status": "completed"
    },
    "tags": []
   },
   "source": [
    "# **Step 3- Data Visualization**"
   ]
  },
  {
   "cell_type": "markdown",
   "id": "611fc351",
   "metadata": {
    "papermill": {
     "duration": 0.005786,
     "end_time": "2023-01-16T08:47:24.867768",
     "exception": false,
     "start_time": "2023-01-16T08:47:24.861982",
     "status": "completed"
    },
    "tags": []
   },
   "source": [
    "> **Analysis 1- Highest IMDB rated movie by year**"
   ]
  },
  {
   "cell_type": "code",
   "execution_count": 11,
   "id": "0d8a9c32",
   "metadata": {
    "execution": {
     "iopub.execute_input": "2023-01-16T08:47:24.882471Z",
     "iopub.status.busy": "2023-01-16T08:47:24.882072Z",
     "iopub.status.idle": "2023-01-16T08:47:26.578556Z",
     "shell.execute_reply": "2023-01-16T08:47:26.576797Z"
    },
    "papermill": {
     "duration": 1.707689,
     "end_time": "2023-01-16T08:47:26.581577",
     "exception": false,
     "start_time": "2023-01-16T08:47:24.873888",
     "status": "completed"
    },
    "tags": []
   },
   "outputs": [
    {
     "name": "stderr",
     "output_type": "stream",
     "text": [
      "/opt/conda/lib/python3.7/site-packages/ipykernel_launcher.py:11: FutureWarning: Dropping invalid columns in DataFrameGroupBy.max is deprecated. In a future version, a TypeError will be raised. Before calling .max, select only columns which should be valid for the function.\n",
      "  # This is added back by InteractiveShellApp.init_path()\n"
     ]
    },
    {
     "data": {
      "text/plain": [
       "Text(0.5, 1.0, 'Highest IMDB rating by year')"
      ]
     },
     "execution_count": 11,
     "metadata": {},
     "output_type": "execute_result"
    },
    {
     "data": {
      "image/png": "[encoded data removed]",
      "text/plain": [
       "<Figure size 864x432 with 1 Axes>"
      ]
     },
     "metadata": {
      "needs_background": "light"
     },
     "output_type": "display_data"
    }
   ],
   "source": [
    "#libraries to plot graphs\n",
    "import matplotlib.pyplot as plt\n",
    "import seaborn as sns\n",
    "%matplotlib inline\n",
    "\n",
    "plt.figure(figsize=(12, 6))\n",
    "\n",
    "#send dark style\n",
    "sns.set_style(\"darkgrid\")\n",
    "\n",
    "titles_groupby_year = titles.groupby('release_year').max()\n",
    "\n",
    "year = titles_groupby_year[titles_groupby_year.index>2000].index.tolist() \n",
    "highest_imdb = titles_groupby_year[titles_groupby_year.index>2000].imdb_score.tolist() \n",
    "\n",
    "plt.bar(year,highest_imdb)\n",
    "\n",
    "plt.xlabel('Year')\n",
    "plt.ylabel('Highest IMDB Score')\n",
    "\n",
    "plt.title(\"Highest IMDB rating by year\")"
   ]
  },
  {
   "cell_type": "code",
   "execution_count": 12,
   "id": "6ccb6b51",
   "metadata": {
    "execution": {
     "iopub.execute_input": "2023-01-16T08:47:26.597733Z",
     "iopub.status.busy": "2023-01-16T08:47:26.597270Z",
     "iopub.status.idle": "2023-01-16T08:47:26.684731Z",
     "shell.execute_reply": "2023-01-16T08:47:26.683347Z"
    },
    "papermill": {
     "duration": 0.099079,
     "end_time": "2023-01-16T08:47:26.687589",
     "exception": false,
     "start_time": "2023-01-16T08:47:26.588510",
     "status": "completed"
    },
    "tags": []
   },
   "outputs": [
    {
     "name": "stderr",
     "output_type": "stream",
     "text": [
      "/opt/conda/lib/python3.7/site-packages/ipykernel_launcher.py:1: FutureWarning: Dropping invalid columns in DataFrameGroupBy.max is deprecated. In a future version, a TypeError will be raised. Before calling .max, select only columns which should be valid for the function.\n",
      "  \"\"\"Entry point for launching an IPython kernel.\n"
     ]
    },
    {
     "data": {
      "text/html": [
       "<div>\n",
       "<style scoped>\n",
       "    .dataframe tbody tr th:only-of-type {\n",
       "        vertical-align: middle;\n",
       "    }\n",
       "\n",
       "    .dataframe tbody tr th {\n",
       "        vertical-align: top;\n",
       "    }\n",
       "\n",
       "    .dataframe thead th {\n",
       "        text-align: right;\n",
       "    }\n",
       "</style>\n",
       "<table border=\"1\" class=\"dataframe\">\n",
       "  <thead>\n",
       "    <tr style=\"text-align: right;\">\n",
       "      <th></th>\n",
       "      <th>id</th>\n",
       "      <th>type</th>\n",
       "      <th>runtime</th>\n",
       "      <th>genres</th>\n",
       "      <th>production_countries</th>\n",
       "      <th>seasons</th>\n",
       "      <th>imdb_score</th>\n",
       "      <th>imdb_votes</th>\n",
       "      <th>tmdb_popularity</th>\n",
       "      <th>tmdb_score</th>\n",
       "    </tr>\n",
       "    <tr>\n",
       "      <th>release_year</th>\n",
       "      <th></th>\n",
       "      <th></th>\n",
       "      <th></th>\n",
       "      <th></th>\n",
       "      <th></th>\n",
       "      <th></th>\n",
       "      <th></th>\n",
       "      <th></th>\n",
       "      <th></th>\n",
       "      <th></th>\n",
       "    </tr>\n",
       "  </thead>\n",
       "  <tbody>\n",
       "    <tr>\n",
       "      <th>1945</th>\n",
       "      <td>ts300399</td>\n",
       "      <td>SHOW</td>\n",
       "      <td>51</td>\n",
       "      <td>['documentation']</td>\n",
       "      <td>['US']</td>\n",
       "      <td>1.0</td>\n",
       "      <td>NaN</td>\n",
       "      <td>NaN</td>\n",
       "      <td>0.600</td>\n",
       "      <td>NaN</td>\n",
       "    </tr>\n",
       "    <tr>\n",
       "      <th>1954</th>\n",
       "      <td>tm19608</td>\n",
       "      <td>MOVIE</td>\n",
       "      <td>115</td>\n",
       "      <td>['romance', 'comedy']</td>\n",
       "      <td>['US']</td>\n",
       "      <td>NaN</td>\n",
       "      <td>7.5</td>\n",
       "      <td>42488.0</td>\n",
       "      <td>8.915</td>\n",
       "      <td>7.2</td>\n",
       "    </tr>\n",
       "    <tr>\n",
       "      <th>1956</th>\n",
       "      <td>tm204541</td>\n",
       "      <td>MOVIE</td>\n",
       "      <td>120</td>\n",
       "      <td>['action', 'drama', 'romance', 'thriller']</td>\n",
       "      <td>['EG']</td>\n",
       "      <td>NaN</td>\n",
       "      <td>6.7</td>\n",
       "      <td>610.0</td>\n",
       "      <td>0.849</td>\n",
       "      <td>5.9</td>\n",
       "    </tr>\n",
       "    <tr>\n",
       "      <th>1958</th>\n",
       "      <td>tm135083</td>\n",
       "      <td>MOVIE</td>\n",
       "      <td>77</td>\n",
       "      <td>['drama', 'crime', 'comedy']</td>\n",
       "      <td>['EG']</td>\n",
       "      <td>NaN</td>\n",
       "      <td>7.5</td>\n",
       "      <td>4471.0</td>\n",
       "      <td>5.546</td>\n",
       "      <td>7.3</td>\n",
       "    </tr>\n",
       "    <tr>\n",
       "      <th>1959</th>\n",
       "      <td>tm358653</td>\n",
       "      <td>MOVIE</td>\n",
       "      <td>142</td>\n",
       "      <td>['romance', 'crime', 'drama']</td>\n",
       "      <td>['IN']</td>\n",
       "      <td>NaN</td>\n",
       "      <td>6.6</td>\n",
       "      <td>78.0</td>\n",
       "      <td>0.840</td>\n",
       "      <td>6.0</td>\n",
       "    </tr>\n",
       "    <tr>\n",
       "      <th>...</th>\n",
       "      <td>...</td>\n",
       "      <td>...</td>\n",
       "      <td>...</td>\n",
       "      <td>...</td>\n",
       "      <td>...</td>\n",
       "      <td>...</td>\n",
       "      <td>...</td>\n",
       "      <td>...</td>\n",
       "      <td>...</td>\n",
       "      <td>...</td>\n",
       "    </tr>\n",
       "    <tr>\n",
       "      <th>2018</th>\n",
       "      <td>ts95569</td>\n",
       "      <td>SHOW</td>\n",
       "      <td>182</td>\n",
       "      <td>[]</td>\n",
       "      <td>[]</td>\n",
       "      <td>8.0</td>\n",
       "      <td>9.6</td>\n",
       "      <td>331070.0</td>\n",
       "      <td>331.306</td>\n",
       "      <td>10.0</td>\n",
       "    </tr>\n",
       "    <tr>\n",
       "      <th>2019</th>\n",
       "      <td>ts95997</td>\n",
       "      <td>SHOW</td>\n",
       "      <td>209</td>\n",
       "      <td>[]</td>\n",
       "      <td>[]</td>\n",
       "      <td>6.0</td>\n",
       "      <td>9.3</td>\n",
       "      <td>472202.0</td>\n",
       "      <td>388.952</td>\n",
       "      <td>10.0</td>\n",
       "    </tr>\n",
       "    <tr>\n",
       "      <th>2020</th>\n",
       "      <td>ts93611</td>\n",
       "      <td>SHOW</td>\n",
       "      <td>171</td>\n",
       "      <td>[]</td>\n",
       "      <td>[]</td>\n",
       "      <td>6.0</td>\n",
       "      <td>9.1</td>\n",
       "      <td>420100.0</td>\n",
       "      <td>473.002</td>\n",
       "      <td>10.0</td>\n",
       "    </tr>\n",
       "    <tr>\n",
       "      <th>2021</th>\n",
       "      <td>ts95572</td>\n",
       "      <td>SHOW</td>\n",
       "      <td>170</td>\n",
       "      <td>[]</td>\n",
       "      <td>[]</td>\n",
       "      <td>4.0</td>\n",
       "      <td>9.0</td>\n",
       "      <td>515337.0</td>\n",
       "      <td>712.899</td>\n",
       "      <td>10.0</td>\n",
       "    </tr>\n",
       "    <tr>\n",
       "      <th>2022</th>\n",
       "      <td>ts94677</td>\n",
       "      <td>SHOW</td>\n",
       "      <td>187</td>\n",
       "      <td>[]</td>\n",
       "      <td>[]</td>\n",
       "      <td>3.0</td>\n",
       "      <td>9.1</td>\n",
       "      <td>183489.0</td>\n",
       "      <td>2274.044</td>\n",
       "      <td>10.0</td>\n",
       "    </tr>\n",
       "  </tbody>\n",
       "</table>\n",
       "<p>63 rows × 10 columns</p>\n",
       "</div>"
      ],
      "text/plain": [
       "                    id   type  runtime  \\\n",
       "release_year                             \n",
       "1945          ts300399   SHOW       51   \n",
       "1954           tm19608  MOVIE      115   \n",
       "1956          tm204541  MOVIE      120   \n",
       "1958          tm135083  MOVIE       77   \n",
       "1959          tm358653  MOVIE      142   \n",
       "...                ...    ...      ...   \n",
       "2018           ts95569   SHOW      182   \n",
       "2019           ts95997   SHOW      209   \n",
       "2020           ts93611   SHOW      171   \n",
       "2021           ts95572   SHOW      170   \n",
       "2022           ts94677   SHOW      187   \n",
       "\n",
       "                                                  genres production_countries  \\\n",
       "release_year                                                                    \n",
       "1945                                   ['documentation']               ['US']   \n",
       "1954                               ['romance', 'comedy']               ['US']   \n",
       "1956          ['action', 'drama', 'romance', 'thriller']               ['EG']   \n",
       "1958                        ['drama', 'crime', 'comedy']               ['EG']   \n",
       "1959                       ['romance', 'crime', 'drama']               ['IN']   \n",
       "...                                                  ...                  ...   \n",
       "2018                                                  []                   []   \n",
       "2019                                                  []                   []   \n",
       "2020                                                  []                   []   \n",
       "2021                                                  []                   []   \n",
       "2022                                                  []                   []   \n",
       "\n",
       "              seasons  imdb_score  imdb_votes  tmdb_popularity  tmdb_score  \n",
       "release_year                                                                \n",
       "1945              1.0         NaN         NaN            0.600         NaN  \n",
       "1954              NaN         7.5     42488.0            8.915         7.2  \n",
       "1956              NaN         6.7       610.0            0.849         5.9  \n",
       "1958              NaN         7.5      4471.0            5.546         7.3  \n",
       "1959              NaN         6.6        78.0            0.840         6.0  \n",
       "...               ...         ...         ...              ...         ...  \n",
       "2018              8.0         9.6    331070.0          331.306        10.0  \n",
       "2019              6.0         9.3    472202.0          388.952        10.0  \n",
       "2020              6.0         9.1    420100.0          473.002        10.0  \n",
       "2021              4.0         9.0    515337.0          712.899        10.0  \n",
       "2022              3.0         9.1    183489.0         2274.044        10.0  \n",
       "\n",
       "[63 rows x 10 columns]"
      ]
     },
     "execution_count": 12,
     "metadata": {},
     "output_type": "execute_result"
    }
   ],
   "source": [
    "titles_groupby_year = titles.groupby('release_year').max()\n",
    "titles_groupby_year"
   ]
  }
 ],
 "metadata": {
  "kernelspec": {
   "display_name": "Python 3",
   "language": "python",
   "name": "python3"
  },
  "language_info": {
   "codemirror_mode": {
    "name": "ipython",
    "version": 3
   },
   "file_extension": ".py",
   "mimetype": "text/x-python",
   "name": "python",
   "nbconvert_exporter": "python",
   "pygments_lexer": "ipython3",
   "version": "3.7.12"
  },
  "papermill": {
   "default_parameters": {},
   "duration": 13.27176,
   "end_time": "2023-01-16T08:47:27.519356",
   "environment_variables": {},
   "exception": null,
   "input_path": "__notebook__.ipynb",
   "output_path": "__notebook__.ipynb",
   "parameters": {},
   "start_time": "2023-01-16T08:47:14.247596",
   "version": "2.3.4"
  }
 },
 "nbformat": 4,
 "nbformat_minor": 5
}
