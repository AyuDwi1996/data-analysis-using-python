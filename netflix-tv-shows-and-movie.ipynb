{
 "cells": [
  {
   "cell_type": "code",
   "execution_count": 1,
   "id": "1c1e7c82",
   "metadata": {
    "_cell_guid": "b1076dfc-b9ad-4769-8c92-a6c4dae69d19",
    "_uuid": "8f2839f25d086af736a60e9eeb907d3b93b6e0e5",
    "execution": {
     "iopub.execute_input": "2023-01-17T10:43:16.125599Z",
     "iopub.status.busy": "2023-01-17T10:43:16.124551Z",
     "iopub.status.idle": "2023-01-17T10:43:16.149196Z",
     "shell.execute_reply": "2023-01-17T10:43:16.147939Z"
    },
    "papermill": {
     "duration": 0.037662,
     "end_time": "2023-01-17T10:43:16.152741",
     "exception": false,
     "start_time": "2023-01-17T10:43:16.115079",
     "status": "completed"
    },
    "tags": []
   },
   "outputs": [
    {
     "name": "stdout",
     "output_type": "stream",
     "text": [
      "/kaggle/input/netflix-tv-shows-and-movies/credits.csv\n",
      "/kaggle/input/netflix-tv-shows-and-movies/titles.csv\n"
     ]
    }
   ],
   "source": [
    "# This Python 3 environment comes with many helpful analytics libraries installed\n",
    "# It is defined by the kaggle/python Docker image: https://github.com/kaggle/docker-python\n",
    "# For example, here's several helpful packages to load\n",
    "\n",
    "\n",
    "import numpy as np # linear algebra\n",
    "import pandas as pd # data processing, CSV file I/O (e.g. pd.read_csv)\n",
    "\n",
    "# Input data files are available in the read-only \"../input/\" directory\n",
    "# For example, running this (by clicking run or pressing Shift+Enter) will list all files under the input directory\n",
    "\n",
    "import os\n",
    "for dirname, _, filenames in os.walk('/kaggle/input'):\n",
    "    for filename in filenames:\n",
    "        print(os.path.join(dirname, filename))\n",
    "\n",
    "# You can write up to 20GB to the current directory (/kaggle/working/) that gets preserved as output when you create a version using \"Save & Run All\" \n",
    "# You can also write temporary files to /kaggle/temp/, but they won't be saved outside of the current session"
   ]
  },
  {
   "cell_type": "markdown",
   "id": "908d0845",
   "metadata": {
    "papermill": {
     "duration": 0.006053,
     "end_time": "2023-01-17T10:43:16.166198",
     "exception": false,
     "start_time": "2023-01-17T10:43:16.160145",
     "status": "completed"
    },
    "tags": []
   },
   "source": [
    "# **Step 1-Loading data from csv files**"
   ]
  },
  {
   "cell_type": "code",
   "execution_count": 2,
   "id": "6c6a0bf8",
   "metadata": {
    "execution": {
     "iopub.execute_input": "2023-01-17T10:43:16.182176Z",
     "iopub.status.busy": "2023-01-17T10:43:16.181420Z",
     "iopub.status.idle": "2023-01-17T10:43:16.475484Z",
     "shell.execute_reply": "2023-01-17T10:43:16.474351Z"
    },
    "papermill": {
     "duration": 0.306068,
     "end_time": "2023-01-17T10:43:16.478427",
     "exception": false,
     "start_time": "2023-01-17T10:43:16.172359",
     "status": "completed"
    },
    "tags": []
   },
   "outputs": [],
   "source": [
    "credits = pd.read_csv('/kaggle/input/netflix-tv-shows-and-movies/credits.csv')\n",
    "titles = pd.read_csv('/kaggle/input/netflix-tv-shows-and-movies/titles.csv')"
   ]
  },
  {
   "cell_type": "markdown",
   "id": "c9f7410e",
   "metadata": {
    "papermill": {
     "duration": 0.005753,
     "end_time": "2023-01-17T10:43:16.490570",
     "exception": false,
     "start_time": "2023-01-17T10:43:16.484817",
     "status": "completed"
    },
    "tags": []
   },
   "source": [
    "# **Step 2-Analyzing basic information of data sets**"
   ]
  },
  {
   "cell_type": "markdown",
   "id": "55384fd2",
   "metadata": {
    "papermill": {
     "duration": 0.005584,
     "end_time": "2023-01-17T10:43:16.502156",
     "exception": false,
     "start_time": "2023-01-17T10:43:16.496572",
     "status": "completed"
    },
    "tags": []
   },
   "source": [
    "> **2.1- columns and data type**"
   ]
  },
  {
   "cell_type": "code",
   "execution_count": 3,
   "id": "9259fb38",
   "metadata": {
    "execution": {
     "iopub.execute_input": "2023-01-17T10:43:16.516175Z",
     "iopub.status.busy": "2023-01-17T10:43:16.515210Z",
     "iopub.status.idle": "2023-01-17T10:43:16.559128Z",
     "shell.execute_reply": "2023-01-17T10:43:16.557694Z"
    },
    "papermill": {
     "duration": 0.05417,
     "end_time": "2023-01-17T10:43:16.562149",
     "exception": false,
     "start_time": "2023-01-17T10:43:16.507979",
     "status": "completed"
    },
    "tags": []
   },
   "outputs": [
    {
     "name": "stdout",
     "output_type": "stream",
     "text": [
      "<class 'pandas.core.frame.DataFrame'>\n",
      "RangeIndex: 77801 entries, 0 to 77800\n",
      "Data columns (total 5 columns):\n",
      " #   Column     Non-Null Count  Dtype \n",
      "---  ------     --------------  ----- \n",
      " 0   person_id  77801 non-null  int64 \n",
      " 1   id         77801 non-null  object\n",
      " 2   name       77801 non-null  object\n",
      " 3   character  68029 non-null  object\n",
      " 4   role       77801 non-null  object\n",
      "dtypes: int64(1), object(4)\n",
      "memory usage: 3.0+ MB\n"
     ]
    }
   ],
   "source": [
    "credits.info()"
   ]
  },
  {
   "cell_type": "code",
   "execution_count": 4,
   "id": "790568a3",
   "metadata": {
    "execution": {
     "iopub.execute_input": "2023-01-17T10:43:16.576561Z",
     "iopub.status.busy": "2023-01-17T10:43:16.576115Z",
     "iopub.status.idle": "2023-01-17T10:43:16.594007Z",
     "shell.execute_reply": "2023-01-17T10:43:16.592206Z"
    },
    "papermill": {
     "duration": 0.028683,
     "end_time": "2023-01-17T10:43:16.597197",
     "exception": false,
     "start_time": "2023-01-17T10:43:16.568514",
     "status": "completed"
    },
    "tags": []
   },
   "outputs": [
    {
     "name": "stdout",
     "output_type": "stream",
     "text": [
      "<class 'pandas.core.frame.DataFrame'>\n",
      "RangeIndex: 5850 entries, 0 to 5849\n",
      "Data columns (total 15 columns):\n",
      " #   Column                Non-Null Count  Dtype  \n",
      "---  ------                --------------  -----  \n",
      " 0   id                    5850 non-null   object \n",
      " 1   title                 5849 non-null   object \n",
      " 2   type                  5850 non-null   object \n",
      " 3   description           5832 non-null   object \n",
      " 4   release_year          5850 non-null   int64  \n",
      " 5   age_certification     3231 non-null   object \n",
      " 6   runtime               5850 non-null   int64  \n",
      " 7   genres                5850 non-null   object \n",
      " 8   production_countries  5850 non-null   object \n",
      " 9   seasons               2106 non-null   float64\n",
      " 10  imdb_id               5447 non-null   object \n",
      " 11  imdb_score            5368 non-null   float64\n",
      " 12  imdb_votes            5352 non-null   float64\n",
      " 13  tmdb_popularity       5759 non-null   float64\n",
      " 14  tmdb_score            5539 non-null   float64\n",
      "dtypes: float64(5), int64(2), object(8)\n",
      "memory usage: 685.7+ KB\n"
     ]
    }
   ],
   "source": [
    "titles.info()"
   ]
  },
  {
   "cell_type": "markdown",
   "id": "f56a0cdf",
   "metadata": {
    "papermill": {
     "duration": 0.00755,
     "end_time": "2023-01-17T10:43:16.611231",
     "exception": false,
     "start_time": "2023-01-17T10:43:16.603681",
     "status": "completed"
    },
    "tags": []
   },
   "source": [
    "> **2.2- sample data**"
   ]
  },
  {
   "cell_type": "code",
   "execution_count": 5,
   "id": "57ae3a31",
   "metadata": {
    "execution": {
     "iopub.execute_input": "2023-01-17T10:43:16.627145Z",
     "iopub.status.busy": "2023-01-17T10:43:16.626156Z",
     "iopub.status.idle": "2023-01-17T10:43:16.645003Z",
     "shell.execute_reply": "2023-01-17T10:43:16.643794Z"
    },
    "papermill": {
     "duration": 0.029589,
     "end_time": "2023-01-17T10:43:16.647594",
     "exception": false,
     "start_time": "2023-01-17T10:43:16.618005",
     "status": "completed"
    },
    "tags": []
   },
   "outputs": [
    {
     "data": {
      "text/html": [
       "<div>\n",
       "<style scoped>\n",
       "    .dataframe tbody tr th:only-of-type {\n",
       "        vertical-align: middle;\n",
       "    }\n",
       "\n",
       "    .dataframe tbody tr th {\n",
       "        vertical-align: top;\n",
       "    }\n",
       "\n",
       "    .dataframe thead th {\n",
       "        text-align: right;\n",
       "    }\n",
       "</style>\n",
       "<table border=\"1\" class=\"dataframe\">\n",
       "  <thead>\n",
       "    <tr style=\"text-align: right;\">\n",
       "      <th></th>\n",
       "      <th>person_id</th>\n",
       "      <th>id</th>\n",
       "      <th>name</th>\n",
       "      <th>character</th>\n",
       "      <th>role</th>\n",
       "    </tr>\n",
       "  </thead>\n",
       "  <tbody>\n",
       "    <tr>\n",
       "      <th>0</th>\n",
       "      <td>3748</td>\n",
       "      <td>tm84618</td>\n",
       "      <td>Robert De Niro</td>\n",
       "      <td>Travis Bickle</td>\n",
       "      <td>ACTOR</td>\n",
       "    </tr>\n",
       "    <tr>\n",
       "      <th>1</th>\n",
       "      <td>14658</td>\n",
       "      <td>tm84618</td>\n",
       "      <td>Jodie Foster</td>\n",
       "      <td>Iris Steensma</td>\n",
       "      <td>ACTOR</td>\n",
       "    </tr>\n",
       "    <tr>\n",
       "      <th>2</th>\n",
       "      <td>7064</td>\n",
       "      <td>tm84618</td>\n",
       "      <td>Albert Brooks</td>\n",
       "      <td>Tom</td>\n",
       "      <td>ACTOR</td>\n",
       "    </tr>\n",
       "    <tr>\n",
       "      <th>3</th>\n",
       "      <td>3739</td>\n",
       "      <td>tm84618</td>\n",
       "      <td>Harvey Keitel</td>\n",
       "      <td>Matthew 'Sport' Higgins</td>\n",
       "      <td>ACTOR</td>\n",
       "    </tr>\n",
       "    <tr>\n",
       "      <th>4</th>\n",
       "      <td>48933</td>\n",
       "      <td>tm84618</td>\n",
       "      <td>Cybill Shepherd</td>\n",
       "      <td>Betsy</td>\n",
       "      <td>ACTOR</td>\n",
       "    </tr>\n",
       "  </tbody>\n",
       "</table>\n",
       "</div>"
      ],
      "text/plain": [
       "   person_id       id             name                character   role\n",
       "0       3748  tm84618   Robert De Niro            Travis Bickle  ACTOR\n",
       "1      14658  tm84618     Jodie Foster            Iris Steensma  ACTOR\n",
       "2       7064  tm84618    Albert Brooks                      Tom  ACTOR\n",
       "3       3739  tm84618    Harvey Keitel  Matthew 'Sport' Higgins  ACTOR\n",
       "4      48933  tm84618  Cybill Shepherd                    Betsy  ACTOR"
      ]
     },
     "execution_count": 5,
     "metadata": {},
     "output_type": "execute_result"
    }
   ],
   "source": [
    "credits.head()"
   ]
  },
  {
   "cell_type": "code",
   "execution_count": 6,
   "id": "c47b9fc2",
   "metadata": {
    "execution": {
     "iopub.execute_input": "2023-01-17T10:43:16.662483Z",
     "iopub.status.busy": "2023-01-17T10:43:16.662061Z",
     "iopub.status.idle": "2023-01-17T10:43:16.684180Z",
     "shell.execute_reply": "2023-01-17T10:43:16.682963Z"
    },
    "papermill": {
     "duration": 0.032453,
     "end_time": "2023-01-17T10:43:16.686717",
     "exception": false,
     "start_time": "2023-01-17T10:43:16.654264",
     "status": "completed"
    },
    "tags": []
   },
   "outputs": [
    {
     "data": {
      "text/html": [
       "<div>\n",
       "<style scoped>\n",
       "    .dataframe tbody tr th:only-of-type {\n",
       "        vertical-align: middle;\n",
       "    }\n",
       "\n",
       "    .dataframe tbody tr th {\n",
       "        vertical-align: top;\n",
       "    }\n",
       "\n",
       "    .dataframe thead th {\n",
       "        text-align: right;\n",
       "    }\n",
       "</style>\n",
       "<table border=\"1\" class=\"dataframe\">\n",
       "  <thead>\n",
       "    <tr style=\"text-align: right;\">\n",
       "      <th></th>\n",
       "      <th>id</th>\n",
       "      <th>title</th>\n",
       "      <th>type</th>\n",
       "      <th>description</th>\n",
       "      <th>release_year</th>\n",
       "      <th>age_certification</th>\n",
       "      <th>runtime</th>\n",
       "      <th>genres</th>\n",
       "      <th>production_countries</th>\n",
       "      <th>seasons</th>\n",
       "      <th>imdb_id</th>\n",
       "      <th>imdb_score</th>\n",
       "      <th>imdb_votes</th>\n",
       "      <th>tmdb_popularity</th>\n",
       "      <th>tmdb_score</th>\n",
       "    </tr>\n",
       "  </thead>\n",
       "  <tbody>\n",
       "    <tr>\n",
       "      <th>0</th>\n",
       "      <td>ts300399</td>\n",
       "      <td>Five Came Back: The Reference Films</td>\n",
       "      <td>SHOW</td>\n",
       "      <td>This collection includes 12 World War II-era p...</td>\n",
       "      <td>1945</td>\n",
       "      <td>TV-MA</td>\n",
       "      <td>51</td>\n",
       "      <td>['documentation']</td>\n",
       "      <td>['US']</td>\n",
       "      <td>1.0</td>\n",
       "      <td>NaN</td>\n",
       "      <td>NaN</td>\n",
       "      <td>NaN</td>\n",
       "      <td>0.600</td>\n",
       "      <td>NaN</td>\n",
       "    </tr>\n",
       "    <tr>\n",
       "      <th>1</th>\n",
       "      <td>tm84618</td>\n",
       "      <td>Taxi Driver</td>\n",
       "      <td>MOVIE</td>\n",
       "      <td>A mentally unstable Vietnam War veteran works ...</td>\n",
       "      <td>1976</td>\n",
       "      <td>R</td>\n",
       "      <td>114</td>\n",
       "      <td>['drama', 'crime']</td>\n",
       "      <td>['US']</td>\n",
       "      <td>NaN</td>\n",
       "      <td>tt0075314</td>\n",
       "      <td>8.2</td>\n",
       "      <td>808582.0</td>\n",
       "      <td>40.965</td>\n",
       "      <td>8.179</td>\n",
       "    </tr>\n",
       "    <tr>\n",
       "      <th>2</th>\n",
       "      <td>tm154986</td>\n",
       "      <td>Deliverance</td>\n",
       "      <td>MOVIE</td>\n",
       "      <td>Intent on seeing the Cahulawassee River before...</td>\n",
       "      <td>1972</td>\n",
       "      <td>R</td>\n",
       "      <td>109</td>\n",
       "      <td>['drama', 'action', 'thriller', 'european']</td>\n",
       "      <td>['US']</td>\n",
       "      <td>NaN</td>\n",
       "      <td>tt0068473</td>\n",
       "      <td>7.7</td>\n",
       "      <td>107673.0</td>\n",
       "      <td>10.010</td>\n",
       "      <td>7.300</td>\n",
       "    </tr>\n",
       "    <tr>\n",
       "      <th>3</th>\n",
       "      <td>tm127384</td>\n",
       "      <td>Monty Python and the Holy Grail</td>\n",
       "      <td>MOVIE</td>\n",
       "      <td>King Arthur, accompanied by his squire, recrui...</td>\n",
       "      <td>1975</td>\n",
       "      <td>PG</td>\n",
       "      <td>91</td>\n",
       "      <td>['fantasy', 'action', 'comedy']</td>\n",
       "      <td>['GB']</td>\n",
       "      <td>NaN</td>\n",
       "      <td>tt0071853</td>\n",
       "      <td>8.2</td>\n",
       "      <td>534486.0</td>\n",
       "      <td>15.461</td>\n",
       "      <td>7.811</td>\n",
       "    </tr>\n",
       "    <tr>\n",
       "      <th>4</th>\n",
       "      <td>tm120801</td>\n",
       "      <td>The Dirty Dozen</td>\n",
       "      <td>MOVIE</td>\n",
       "      <td>12 American military prisoners in World War II...</td>\n",
       "      <td>1967</td>\n",
       "      <td>NaN</td>\n",
       "      <td>150</td>\n",
       "      <td>['war', 'action']</td>\n",
       "      <td>['GB', 'US']</td>\n",
       "      <td>NaN</td>\n",
       "      <td>tt0061578</td>\n",
       "      <td>7.7</td>\n",
       "      <td>72662.0</td>\n",
       "      <td>20.398</td>\n",
       "      <td>7.600</td>\n",
       "    </tr>\n",
       "  </tbody>\n",
       "</table>\n",
       "</div>"
      ],
      "text/plain": [
       "         id                                title   type  \\\n",
       "0  ts300399  Five Came Back: The Reference Films   SHOW   \n",
       "1   tm84618                          Taxi Driver  MOVIE   \n",
       "2  tm154986                          Deliverance  MOVIE   \n",
       "3  tm127384      Monty Python and the Holy Grail  MOVIE   \n",
       "4  tm120801                      The Dirty Dozen  MOVIE   \n",
       "\n",
       "                                         description  release_year  \\\n",
       "0  This collection includes 12 World War II-era p...          1945   \n",
       "1  A mentally unstable Vietnam War veteran works ...          1976   \n",
       "2  Intent on seeing the Cahulawassee River before...          1972   \n",
       "3  King Arthur, accompanied by his squire, recrui...          1975   \n",
       "4  12 American military prisoners in World War II...          1967   \n",
       "\n",
       "  age_certification  runtime                                       genres  \\\n",
       "0             TV-MA       51                            ['documentation']   \n",
       "1                 R      114                           ['drama', 'crime']   \n",
       "2                 R      109  ['drama', 'action', 'thriller', 'european']   \n",
       "3                PG       91              ['fantasy', 'action', 'comedy']   \n",
       "4               NaN      150                            ['war', 'action']   \n",
       "\n",
       "  production_countries  seasons    imdb_id  imdb_score  imdb_votes  \\\n",
       "0               ['US']      1.0        NaN         NaN         NaN   \n",
       "1               ['US']      NaN  tt0075314         8.2    808582.0   \n",
       "2               ['US']      NaN  tt0068473         7.7    107673.0   \n",
       "3               ['GB']      NaN  tt0071853         8.2    534486.0   \n",
       "4         ['GB', 'US']      NaN  tt0061578         7.7     72662.0   \n",
       "\n",
       "   tmdb_popularity  tmdb_score  \n",
       "0            0.600         NaN  \n",
       "1           40.965       8.179  \n",
       "2           10.010       7.300  \n",
       "3           15.461       7.811  \n",
       "4           20.398       7.600  "
      ]
     },
     "execution_count": 6,
     "metadata": {},
     "output_type": "execute_result"
    }
   ],
   "source": [
    "titles.head()"
   ]
  },
  {
   "cell_type": "markdown",
   "id": "518ede4a",
   "metadata": {
    "papermill": {
     "duration": 0.006428,
     "end_time": "2023-01-17T10:43:16.700033",
     "exception": false,
     "start_time": "2023-01-17T10:43:16.693605",
     "status": "completed"
    },
    "tags": []
   },
   "source": [
    "> **2.3- Descriptive Analysis of data**"
   ]
  },
  {
   "cell_type": "code",
   "execution_count": 7,
   "id": "c5661abb",
   "metadata": {
    "execution": {
     "iopub.execute_input": "2023-01-17T10:43:16.715845Z",
     "iopub.status.busy": "2023-01-17T10:43:16.715109Z",
     "iopub.status.idle": "2023-01-17T10:43:16.736988Z",
     "shell.execute_reply": "2023-01-17T10:43:16.736103Z"
    },
    "papermill": {
     "duration": 0.032352,
     "end_time": "2023-01-17T10:43:16.739256",
     "exception": false,
     "start_time": "2023-01-17T10:43:16.706904",
     "status": "completed"
    },
    "tags": []
   },
   "outputs": [
    {
     "data": {
      "text/html": [
       "<div>\n",
       "<style scoped>\n",
       "    .dataframe tbody tr th:only-of-type {\n",
       "        vertical-align: middle;\n",
       "    }\n",
       "\n",
       "    .dataframe tbody tr th {\n",
       "        vertical-align: top;\n",
       "    }\n",
       "\n",
       "    .dataframe thead th {\n",
       "        text-align: right;\n",
       "    }\n",
       "</style>\n",
       "<table border=\"1\" class=\"dataframe\">\n",
       "  <thead>\n",
       "    <tr style=\"text-align: right;\">\n",
       "      <th></th>\n",
       "      <th>person_id</th>\n",
       "    </tr>\n",
       "  </thead>\n",
       "  <tbody>\n",
       "    <tr>\n",
       "      <th>count</th>\n",
       "      <td>7.780100e+04</td>\n",
       "    </tr>\n",
       "    <tr>\n",
       "      <th>mean</th>\n",
       "      <td>5.294888e+05</td>\n",
       "    </tr>\n",
       "    <tr>\n",
       "      <th>std</th>\n",
       "      <td>6.430167e+05</td>\n",
       "    </tr>\n",
       "    <tr>\n",
       "      <th>min</th>\n",
       "      <td>7.000000e+00</td>\n",
       "    </tr>\n",
       "    <tr>\n",
       "      <th>25%</th>\n",
       "      <td>4.530600e+04</td>\n",
       "    </tr>\n",
       "    <tr>\n",
       "      <th>50%</th>\n",
       "      <td>1.983580e+05</td>\n",
       "    </tr>\n",
       "    <tr>\n",
       "      <th>75%</th>\n",
       "      <td>8.880960e+05</td>\n",
       "    </tr>\n",
       "    <tr>\n",
       "      <th>max</th>\n",
       "      <td>2.462818e+06</td>\n",
       "    </tr>\n",
       "  </tbody>\n",
       "</table>\n",
       "</div>"
      ],
      "text/plain": [
       "          person_id\n",
       "count  7.780100e+04\n",
       "mean   5.294888e+05\n",
       "std    6.430167e+05\n",
       "min    7.000000e+00\n",
       "25%    4.530600e+04\n",
       "50%    1.983580e+05\n",
       "75%    8.880960e+05\n",
       "max    2.462818e+06"
      ]
     },
     "execution_count": 7,
     "metadata": {},
     "output_type": "execute_result"
    }
   ],
   "source": [
    "credits.describe()"
   ]
  },
  {
   "cell_type": "code",
   "execution_count": 8,
   "id": "802a914c",
   "metadata": {
    "execution": {
     "iopub.execute_input": "2023-01-17T10:43:16.755196Z",
     "iopub.status.busy": "2023-01-17T10:43:16.754590Z",
     "iopub.status.idle": "2023-01-17T10:43:16.788827Z",
     "shell.execute_reply": "2023-01-17T10:43:16.787635Z"
    },
    "papermill": {
     "duration": 0.045043,
     "end_time": "2023-01-17T10:43:16.791308",
     "exception": false,
     "start_time": "2023-01-17T10:43:16.746265",
     "status": "completed"
    },
    "tags": []
   },
   "outputs": [
    {
     "data": {
      "text/html": [
       "<div>\n",
       "<style scoped>\n",
       "    .dataframe tbody tr th:only-of-type {\n",
       "        vertical-align: middle;\n",
       "    }\n",
       "\n",
       "    .dataframe tbody tr th {\n",
       "        vertical-align: top;\n",
       "    }\n",
       "\n",
       "    .dataframe thead th {\n",
       "        text-align: right;\n",
       "    }\n",
       "</style>\n",
       "<table border=\"1\" class=\"dataframe\">\n",
       "  <thead>\n",
       "    <tr style=\"text-align: right;\">\n",
       "      <th></th>\n",
       "      <th>release_year</th>\n",
       "      <th>runtime</th>\n",
       "      <th>seasons</th>\n",
       "      <th>imdb_score</th>\n",
       "      <th>imdb_votes</th>\n",
       "      <th>tmdb_popularity</th>\n",
       "      <th>tmdb_score</th>\n",
       "    </tr>\n",
       "  </thead>\n",
       "  <tbody>\n",
       "    <tr>\n",
       "      <th>count</th>\n",
       "      <td>5850.000000</td>\n",
       "      <td>5850.000000</td>\n",
       "      <td>2106.000000</td>\n",
       "      <td>5368.000000</td>\n",
       "      <td>5.352000e+03</td>\n",
       "      <td>5759.000000</td>\n",
       "      <td>5539.000000</td>\n",
       "    </tr>\n",
       "    <tr>\n",
       "      <th>mean</th>\n",
       "      <td>2016.417094</td>\n",
       "      <td>76.888889</td>\n",
       "      <td>2.162868</td>\n",
       "      <td>6.510861</td>\n",
       "      <td>2.343938e+04</td>\n",
       "      <td>22.637925</td>\n",
       "      <td>6.829175</td>\n",
       "    </tr>\n",
       "    <tr>\n",
       "      <th>std</th>\n",
       "      <td>6.937726</td>\n",
       "      <td>39.002509</td>\n",
       "      <td>2.689041</td>\n",
       "      <td>1.163826</td>\n",
       "      <td>9.582047e+04</td>\n",
       "      <td>81.680263</td>\n",
       "      <td>1.170391</td>\n",
       "    </tr>\n",
       "    <tr>\n",
       "      <th>min</th>\n",
       "      <td>1945.000000</td>\n",
       "      <td>0.000000</td>\n",
       "      <td>1.000000</td>\n",
       "      <td>1.500000</td>\n",
       "      <td>5.000000e+00</td>\n",
       "      <td>0.009442</td>\n",
       "      <td>0.500000</td>\n",
       "    </tr>\n",
       "    <tr>\n",
       "      <th>25%</th>\n",
       "      <td>2016.000000</td>\n",
       "      <td>44.000000</td>\n",
       "      <td>1.000000</td>\n",
       "      <td>5.800000</td>\n",
       "      <td>5.167500e+02</td>\n",
       "      <td>2.728500</td>\n",
       "      <td>6.100000</td>\n",
       "    </tr>\n",
       "    <tr>\n",
       "      <th>50%</th>\n",
       "      <td>2018.000000</td>\n",
       "      <td>83.000000</td>\n",
       "      <td>1.000000</td>\n",
       "      <td>6.600000</td>\n",
       "      <td>2.233500e+03</td>\n",
       "      <td>6.821000</td>\n",
       "      <td>6.900000</td>\n",
       "    </tr>\n",
       "    <tr>\n",
       "      <th>75%</th>\n",
       "      <td>2020.000000</td>\n",
       "      <td>104.000000</td>\n",
       "      <td>2.000000</td>\n",
       "      <td>7.300000</td>\n",
       "      <td>9.494000e+03</td>\n",
       "      <td>16.590000</td>\n",
       "      <td>7.537500</td>\n",
       "    </tr>\n",
       "    <tr>\n",
       "      <th>max</th>\n",
       "      <td>2022.000000</td>\n",
       "      <td>240.000000</td>\n",
       "      <td>42.000000</td>\n",
       "      <td>9.600000</td>\n",
       "      <td>2.294231e+06</td>\n",
       "      <td>2274.044000</td>\n",
       "      <td>10.000000</td>\n",
       "    </tr>\n",
       "  </tbody>\n",
       "</table>\n",
       "</div>"
      ],
      "text/plain": [
       "       release_year      runtime      seasons   imdb_score    imdb_votes  \\\n",
       "count   5850.000000  5850.000000  2106.000000  5368.000000  5.352000e+03   \n",
       "mean    2016.417094    76.888889     2.162868     6.510861  2.343938e+04   \n",
       "std        6.937726    39.002509     2.689041     1.163826  9.582047e+04   \n",
       "min     1945.000000     0.000000     1.000000     1.500000  5.000000e+00   \n",
       "25%     2016.000000    44.000000     1.000000     5.800000  5.167500e+02   \n",
       "50%     2018.000000    83.000000     1.000000     6.600000  2.233500e+03   \n",
       "75%     2020.000000   104.000000     2.000000     7.300000  9.494000e+03   \n",
       "max     2022.000000   240.000000    42.000000     9.600000  2.294231e+06   \n",
       "\n",
       "       tmdb_popularity   tmdb_score  \n",
       "count      5759.000000  5539.000000  \n",
       "mean         22.637925     6.829175  \n",
       "std          81.680263     1.170391  \n",
       "min           0.009442     0.500000  \n",
       "25%           2.728500     6.100000  \n",
       "50%           6.821000     6.900000  \n",
       "75%          16.590000     7.537500  \n",
       "max        2274.044000    10.000000  "
      ]
     },
     "execution_count": 8,
     "metadata": {},
     "output_type": "execute_result"
    }
   ],
   "source": [
    "titles.describe()"
   ]
  },
  {
   "cell_type": "markdown",
   "id": "eb2c1738",
   "metadata": {
    "papermill": {
     "duration": 0.006663,
     "end_time": "2023-01-17T10:43:16.805296",
     "exception": false,
     "start_time": "2023-01-17T10:43:16.798633",
     "status": "completed"
    },
    "tags": []
   },
   "source": [
    "> **2.4- Analyzing unique and null values**"
   ]
  },
  {
   "cell_type": "code",
   "execution_count": 9,
   "id": "52ee62b5",
   "metadata": {
    "execution": {
     "iopub.execute_input": "2023-01-17T10:43:16.820941Z",
     "iopub.status.busy": "2023-01-17T10:43:16.820437Z",
     "iopub.status.idle": "2023-01-17T10:43:16.893525Z",
     "shell.execute_reply": "2023-01-17T10:43:16.891607Z"
    },
    "papermill": {
     "duration": 0.084124,
     "end_time": "2023-01-17T10:43:16.896310",
     "exception": false,
     "start_time": "2023-01-17T10:43:16.812186",
     "status": "completed"
    },
    "tags": []
   },
   "outputs": [
    {
     "name": "stdout",
     "output_type": "stream",
     "text": [
      "Shape of the dataset credits:  (77801, 5)\n",
      "Null values in credits: \n",
      "person_id       0\n",
      "id              0\n",
      "name            0\n",
      "character    9772\n",
      "role            0\n",
      "dtype: int64\n",
      "Number of unique values: \n",
      "person_id    54589\n",
      "id            5489\n",
      "name         54314\n",
      "character    47274\n",
      "role             2\n",
      "dtype: int64\n"
     ]
    }
   ],
   "source": [
    "print(\"Shape of the dataset credits: \",credits.shape)\n",
    "print(\"Null values in credits: \")\n",
    "print(credits.isnull().sum())\n",
    "print(\"Number of unique values: \")\n",
    "print(credits.nunique())"
   ]
  },
  {
   "cell_type": "code",
   "execution_count": 10,
   "id": "1165fff9",
   "metadata": {
    "execution": {
     "iopub.execute_input": "2023-01-17T10:43:16.912899Z",
     "iopub.status.busy": "2023-01-17T10:43:16.912485Z",
     "iopub.status.idle": "2023-01-17T10:43:16.938869Z",
     "shell.execute_reply": "2023-01-17T10:43:16.937360Z"
    },
    "papermill": {
     "duration": 0.037791,
     "end_time": "2023-01-17T10:43:16.941728",
     "exception": false,
     "start_time": "2023-01-17T10:43:16.903937",
     "status": "completed"
    },
    "tags": []
   },
   "outputs": [
    {
     "name": "stdout",
     "output_type": "stream",
     "text": [
      "Shape of the dataset titles:  (5850, 15)\n",
      "Null values in titles: \n",
      "id                         0\n",
      "title                      1\n",
      "type                       0\n",
      "description               18\n",
      "release_year               0\n",
      "age_certification       2619\n",
      "runtime                    0\n",
      "genres                     0\n",
      "production_countries       0\n",
      "seasons                 3744\n",
      "imdb_id                  403\n",
      "imdb_score               482\n",
      "imdb_votes               498\n",
      "tmdb_popularity           91\n",
      "tmdb_score               311\n",
      "dtype: int64\n",
      "Number of unique values: \n",
      "id                      5850\n",
      "title                   5798\n",
      "type                       2\n",
      "description             5829\n",
      "release_year              63\n",
      "age_certification         11\n",
      "runtime                  202\n",
      "genres                  1726\n",
      "production_countries     452\n",
      "seasons                   26\n",
      "imdb_id                 5447\n",
      "imdb_score                80\n",
      "imdb_votes              3880\n",
      "tmdb_popularity         4889\n",
      "tmdb_score               394\n",
      "dtype: int64\n"
     ]
    }
   ],
   "source": [
    "print(\"Shape of the dataset titles: \",titles.shape)\n",
    "print(\"Null values in titles: \")\n",
    "print(titles.isnull().sum())\n",
    "print(\"Number of unique values: \")\n",
    "print(titles.nunique())"
   ]
  },
  {
   "cell_type": "markdown",
   "id": "562c8c18",
   "metadata": {
    "papermill": {
     "duration": 0.007071,
     "end_time": "2023-01-17T10:43:16.956107",
     "exception": false,
     "start_time": "2023-01-17T10:43:16.949036",
     "status": "completed"
    },
    "tags": []
   },
   "source": [
    "> **2.5- Replacing null values in titles**"
   ]
  },
  {
   "cell_type": "code",
   "execution_count": 11,
   "id": "3f72d08b",
   "metadata": {
    "execution": {
     "iopub.execute_input": "2023-01-17T10:43:16.972877Z",
     "iopub.status.busy": "2023-01-17T10:43:16.972479Z",
     "iopub.status.idle": "2023-01-17T10:43:16.980324Z",
     "shell.execute_reply": "2023-01-17T10:43:16.979406Z"
    },
    "papermill": {
     "duration": 0.018981,
     "end_time": "2023-01-17T10:43:16.982723",
     "exception": false,
     "start_time": "2023-01-17T10:43:16.963742",
     "status": "completed"
    },
    "tags": []
   },
   "outputs": [],
   "source": [
    "titles['imdb_score'] = titles['imdb_score'].fillna(0)\n",
    "titles['title'] = titles['title'].replace(np.nan, 'data unavailable')"
   ]
  },
  {
   "cell_type": "markdown",
   "id": "24b08dfe",
   "metadata": {
    "papermill": {
     "duration": 0.006971,
     "end_time": "2023-01-17T10:43:16.996979",
     "exception": false,
     "start_time": "2023-01-17T10:43:16.990008",
     "status": "completed"
    },
    "tags": []
   },
   "source": [
    "# **Step 3- Data Visualization**"
   ]
  },
  {
   "cell_type": "markdown",
   "id": "c5ebe91d",
   "metadata": {
    "papermill": {
     "duration": 0.006891,
     "end_time": "2023-01-17T10:43:17.011169",
     "exception": false,
     "start_time": "2023-01-17T10:43:17.004278",
     "status": "completed"
    },
    "tags": []
   },
   "source": [
    "> **Analysis 1- Highest IMDB rated movie by year for last 10 years**"
   ]
  },
  {
   "cell_type": "code",
   "execution_count": 12,
   "id": "cd2db8da",
   "metadata": {
    "execution": {
     "iopub.execute_input": "2023-01-17T10:43:17.027579Z",
     "iopub.status.busy": "2023-01-17T10:43:17.027142Z",
     "iopub.status.idle": "2023-01-17T10:43:18.640780Z",
     "shell.execute_reply": "2023-01-17T10:43:18.639468Z"
    },
    "papermill": {
     "duration": 1.625707,
     "end_time": "2023-01-17T10:43:18.644060",
     "exception": false,
     "start_time": "2023-01-17T10:43:17.018353",
     "status": "completed"
    },
    "tags": []
   },
   "outputs": [
    {
     "data": {
      "text/plain": [
       "Text(0.5, 1.0, 'Last 10 years highest IMDB rated movies')"
      ]
     },
     "execution_count": 12,
     "metadata": {},
     "output_type": "execute_result"
    },
    {
     "data": {
      "image/png": "[encoded data removed]",
      "text/plain": [
       "<Figure size 1080x648 with 1 Axes>"
      ]
     },
     "metadata": {
      "needs_background": "light"
     },
     "output_type": "display_data"
    }
   ],
   "source": [
    "#libraries to plot graphs\n",
    "import matplotlib.pyplot as plt\n",
    "import seaborn as sns\n",
    "%matplotlib inline\n",
    "\n",
    "plt.figure(figsize=(15, 9))\n",
    "\n",
    "#send dark style\n",
    "sns.set_style(\"darkgrid\")\n",
    "\n",
    "#taking out maximum imdb rating per year\n",
    "titles_groupby_year_maxscore=titles.loc[titles.groupby(\"release_year\")[\"imdb_score\"].idxmax()]\n",
    "\n",
    "#list of colors to be used in bar graph\n",
    "c = ['#FBF8CC', '#FDE4CF', '#FFCFD2', '#F1C0E8', '#CFBAF0','#A3C4F3','#90DBF4','#8EECF5','#98F5E1','#B9FBC0']\n",
    "\n",
    "#plotting the graph\n",
    "year = 2013\n",
    "for i in range(len(c)):\n",
    "    plt.bar(titles_groupby_year_maxscore.release_year[titles_groupby_year_maxscore.release_year==year+i],\n",
    "            titles_groupby_year_maxscore.imdb_score[titles_groupby_year_maxscore.release_year==year+i],\n",
    "            color = c[i],label=titles_groupby_year_maxscore.title[titles_groupby_year_maxscore.release_year==year+i],\n",
    "            align='edge')\n",
    "plt.legend()\n",
    "plt.xlabel('Year')\n",
    "plt.ylabel('IMDB Score')\n",
    "plt.title(\"Last 10 years highest IMDB rated movies\")"
   ]
  },
  {
   "cell_type": "markdown",
   "id": "bca0edfd",
   "metadata": {
    "papermill": {
     "duration": 0.008008,
     "end_time": "2023-01-17T10:43:18.660711",
     "exception": false,
     "start_time": "2023-01-17T10:43:18.652703",
     "status": "completed"
    },
    "tags": []
   },
   "source": [
    "> **Analysis 2- Percentage distribution by Genre for all years**"
   ]
  },
  {
   "cell_type": "code",
   "execution_count": 13,
   "id": "af2dc0bc",
   "metadata": {
    "execution": {
     "iopub.execute_input": "2023-01-17T10:43:18.679638Z",
     "iopub.status.busy": "2023-01-17T10:43:18.678950Z",
     "iopub.status.idle": "2023-01-17T10:43:19.247710Z",
     "shell.execute_reply": "2023-01-17T10:43:19.246684Z"
    },
    "papermill": {
     "duration": 0.583583,
     "end_time": "2023-01-17T10:43:19.252601",
     "exception": false,
     "start_time": "2023-01-17T10:43:18.669018",
     "status": "completed"
    },
    "tags": []
   },
   "outputs": [
    {
     "data": {
      "text/plain": [
       "Text(0.5, 1.0, 'Percentage distribution by genres')"
      ]
     },
     "execution_count": 13,
     "metadata": {},
     "output_type": "execute_result"
    },
    {
     "data": {
      "image/png": "[encoded data removed]",
      "text/plain": [
       "<Figure size 1080x648 with 1 Axes>"
      ]
     },
     "metadata": {},
     "output_type": "display_data"
    }
   ],
   "source": [
    "from ast import literal_eval\n",
    "\n",
    "\n",
    "plt.figure(figsize=(15, 9))\n",
    "\n",
    "#send dark style\n",
    "sns.set_style(\"darkgrid\")\n",
    "\n",
    "#explode the columns for genres\n",
    "list_of_genres = titles.copy()\n",
    "list_of_genres['genres'] = list_of_genres['genres'].apply(literal_eval) #convert to list type\n",
    "list_of_genres=list_of_genres.explode('genres')\n",
    "\n",
    "#group by genre\n",
    "groupby_genres=list_of_genres.groupby(\"genres\").count().reset_index()\n",
    "\n",
    "y = []\n",
    "for i in groupby_genres:\n",
    "    y.append(groupby_genres['id'])\n",
    "mylabels = groupby_genres['genres']\n",
    "y = y[0]\n",
    "plt.pie(y, labels = mylabels, startangle = 90,colors = c,shadow=True,explode=[0.1,0.1,0.1,0.1,0.1,0.1,0.1,0.1,0.1,0.1,0.1,0.1,0.1,0.1,0.1,0.1,0.1,0.1,0.1],autopct='%1.2f%%')\n",
    "\n",
    "plt.title(\"Percentage distribution by genres\")\n",
    "#plt.show() "
   ]
  },
  {
   "cell_type": "code",
   "execution_count": 14,
   "id": "1473581c",
   "metadata": {
    "execution": {
     "iopub.execute_input": "2023-01-17T10:43:19.285826Z",
     "iopub.status.busy": "2023-01-17T10:43:19.284471Z",
     "iopub.status.idle": "2023-01-17T10:43:19.383033Z",
     "shell.execute_reply": "2023-01-17T10:43:19.382005Z"
    },
    "papermill": {
     "duration": 0.11913,
     "end_time": "2023-01-17T10:43:19.385339",
     "exception": false,
     "start_time": "2023-01-17T10:43:19.266209",
     "status": "completed"
    },
    "tags": []
   },
   "outputs": [
    {
     "data": {
      "text/html": [
       "<div>\n",
       "<style scoped>\n",
       "    .dataframe tbody tr th:only-of-type {\n",
       "        vertical-align: middle;\n",
       "    }\n",
       "\n",
       "    .dataframe tbody tr th {\n",
       "        vertical-align: top;\n",
       "    }\n",
       "\n",
       "    .dataframe thead th {\n",
       "        text-align: right;\n",
       "    }\n",
       "</style>\n",
       "<table border=\"1\" class=\"dataframe\">\n",
       "  <thead>\n",
       "    <tr style=\"text-align: right;\">\n",
       "      <th></th>\n",
       "      <th>production_countries</th>\n",
       "      <th>id</th>\n",
       "      <th>title</th>\n",
       "      <th>type</th>\n",
       "      <th>description</th>\n",
       "      <th>release_year</th>\n",
       "      <th>age_certification</th>\n",
       "      <th>runtime</th>\n",
       "      <th>genres</th>\n",
       "      <th>seasons</th>\n",
       "      <th>imdb_id</th>\n",
       "      <th>imdb_score</th>\n",
       "      <th>imdb_votes</th>\n",
       "      <th>tmdb_popularity</th>\n",
       "      <th>tmdb_score</th>\n",
       "    </tr>\n",
       "  </thead>\n",
       "  <tbody>\n",
       "    <tr>\n",
       "      <th>0</th>\n",
       "      <td>AE</td>\n",
       "      <td>21</td>\n",
       "      <td>21</td>\n",
       "      <td>21</td>\n",
       "      <td>21</td>\n",
       "      <td>21</td>\n",
       "      <td>12</td>\n",
       "      <td>21</td>\n",
       "      <td>21</td>\n",
       "      <td>2</td>\n",
       "      <td>19</td>\n",
       "      <td>21</td>\n",
       "      <td>19</td>\n",
       "      <td>19</td>\n",
       "      <td>15</td>\n",
       "    </tr>\n",
       "    <tr>\n",
       "      <th>1</th>\n",
       "      <td>AF</td>\n",
       "      <td>2</td>\n",
       "      <td>2</td>\n",
       "      <td>2</td>\n",
       "      <td>2</td>\n",
       "      <td>2</td>\n",
       "      <td>0</td>\n",
       "      <td>2</td>\n",
       "      <td>2</td>\n",
       "      <td>0</td>\n",
       "      <td>1</td>\n",
       "      <td>2</td>\n",
       "      <td>0</td>\n",
       "      <td>2</td>\n",
       "      <td>2</td>\n",
       "    </tr>\n",
       "    <tr>\n",
       "      <th>2</th>\n",
       "      <td>AL</td>\n",
       "      <td>2</td>\n",
       "      <td>2</td>\n",
       "      <td>2</td>\n",
       "      <td>2</td>\n",
       "      <td>2</td>\n",
       "      <td>1</td>\n",
       "      <td>2</td>\n",
       "      <td>2</td>\n",
       "      <td>0</td>\n",
       "      <td>2</td>\n",
       "      <td>2</td>\n",
       "      <td>2</td>\n",
       "      <td>2</td>\n",
       "      <td>2</td>\n",
       "    </tr>\n",
       "    <tr>\n",
       "      <th>3</th>\n",
       "      <td>AO</td>\n",
       "      <td>1</td>\n",
       "      <td>1</td>\n",
       "      <td>1</td>\n",
       "      <td>1</td>\n",
       "      <td>1</td>\n",
       "      <td>0</td>\n",
       "      <td>1</td>\n",
       "      <td>1</td>\n",
       "      <td>0</td>\n",
       "      <td>1</td>\n",
       "      <td>1</td>\n",
       "      <td>1</td>\n",
       "      <td>1</td>\n",
       "      <td>1</td>\n",
       "    </tr>\n",
       "    <tr>\n",
       "      <th>4</th>\n",
       "      <td>AR</td>\n",
       "      <td>72</td>\n",
       "      <td>72</td>\n",
       "      <td>72</td>\n",
       "      <td>72</td>\n",
       "      <td>72</td>\n",
       "      <td>22</td>\n",
       "      <td>72</td>\n",
       "      <td>72</td>\n",
       "      <td>18</td>\n",
       "      <td>67</td>\n",
       "      <td>72</td>\n",
       "      <td>67</td>\n",
       "      <td>72</td>\n",
       "      <td>69</td>\n",
       "    </tr>\n",
       "    <tr>\n",
       "      <th>...</th>\n",
       "      <td>...</td>\n",
       "      <td>...</td>\n",
       "      <td>...</td>\n",
       "      <td>...</td>\n",
       "      <td>...</td>\n",
       "      <td>...</td>\n",
       "      <td>...</td>\n",
       "      <td>...</td>\n",
       "      <td>...</td>\n",
       "      <td>...</td>\n",
       "      <td>...</td>\n",
       "      <td>...</td>\n",
       "      <td>...</td>\n",
       "      <td>...</td>\n",
       "      <td>...</td>\n",
       "    </tr>\n",
       "    <tr>\n",
       "      <th>104</th>\n",
       "      <td>VE</td>\n",
       "      <td>1</td>\n",
       "      <td>1</td>\n",
       "      <td>1</td>\n",
       "      <td>1</td>\n",
       "      <td>1</td>\n",
       "      <td>0</td>\n",
       "      <td>1</td>\n",
       "      <td>1</td>\n",
       "      <td>0</td>\n",
       "      <td>1</td>\n",
       "      <td>1</td>\n",
       "      <td>1</td>\n",
       "      <td>1</td>\n",
       "      <td>1</td>\n",
       "    </tr>\n",
       "    <tr>\n",
       "      <th>105</th>\n",
       "      <td>VN</td>\n",
       "      <td>3</td>\n",
       "      <td>3</td>\n",
       "      <td>3</td>\n",
       "      <td>3</td>\n",
       "      <td>3</td>\n",
       "      <td>0</td>\n",
       "      <td>3</td>\n",
       "      <td>3</td>\n",
       "      <td>0</td>\n",
       "      <td>2</td>\n",
       "      <td>3</td>\n",
       "      <td>2</td>\n",
       "      <td>3</td>\n",
       "      <td>3</td>\n",
       "    </tr>\n",
       "    <tr>\n",
       "      <th>106</th>\n",
       "      <td>XX</td>\n",
       "      <td>23</td>\n",
       "      <td>23</td>\n",
       "      <td>23</td>\n",
       "      <td>23</td>\n",
       "      <td>23</td>\n",
       "      <td>8</td>\n",
       "      <td>23</td>\n",
       "      <td>23</td>\n",
       "      <td>2</td>\n",
       "      <td>21</td>\n",
       "      <td>23</td>\n",
       "      <td>21</td>\n",
       "      <td>21</td>\n",
       "      <td>16</td>\n",
       "    </tr>\n",
       "    <tr>\n",
       "      <th>107</th>\n",
       "      <td>ZA</td>\n",
       "      <td>48</td>\n",
       "      <td>48</td>\n",
       "      <td>48</td>\n",
       "      <td>48</td>\n",
       "      <td>48</td>\n",
       "      <td>22</td>\n",
       "      <td>48</td>\n",
       "      <td>48</td>\n",
       "      <td>11</td>\n",
       "      <td>45</td>\n",
       "      <td>48</td>\n",
       "      <td>44</td>\n",
       "      <td>47</td>\n",
       "      <td>40</td>\n",
       "    </tr>\n",
       "    <tr>\n",
       "      <th>108</th>\n",
       "      <td>ZW</td>\n",
       "      <td>1</td>\n",
       "      <td>1</td>\n",
       "      <td>1</td>\n",
       "      <td>1</td>\n",
       "      <td>1</td>\n",
       "      <td>1</td>\n",
       "      <td>1</td>\n",
       "      <td>1</td>\n",
       "      <td>0</td>\n",
       "      <td>1</td>\n",
       "      <td>1</td>\n",
       "      <td>1</td>\n",
       "      <td>1</td>\n",
       "      <td>1</td>\n",
       "    </tr>\n",
       "  </tbody>\n",
       "</table>\n",
       "<p>109 rows × 15 columns</p>\n",
       "</div>"
      ],
      "text/plain": [
       "    production_countries  id  title  type  description  release_year  \\\n",
       "0                     AE  21     21    21           21            21   \n",
       "1                     AF   2      2     2            2             2   \n",
       "2                     AL   2      2     2            2             2   \n",
       "3                     AO   1      1     1            1             1   \n",
       "4                     AR  72     72    72           72            72   \n",
       "..                   ...  ..    ...   ...          ...           ...   \n",
       "104                   VE   1      1     1            1             1   \n",
       "105                   VN   3      3     3            3             3   \n",
       "106                   XX  23     23    23           23            23   \n",
       "107                   ZA  48     48    48           48            48   \n",
       "108                   ZW   1      1     1            1             1   \n",
       "\n",
       "     age_certification  runtime  genres  seasons  imdb_id  imdb_score  \\\n",
       "0                   12       21      21        2       19          21   \n",
       "1                    0        2       2        0        1           2   \n",
       "2                    1        2       2        0        2           2   \n",
       "3                    0        1       1        0        1           1   \n",
       "4                   22       72      72       18       67          72   \n",
       "..                 ...      ...     ...      ...      ...         ...   \n",
       "104                  0        1       1        0        1           1   \n",
       "105                  0        3       3        0        2           3   \n",
       "106                  8       23      23        2       21          23   \n",
       "107                 22       48      48       11       45          48   \n",
       "108                  1        1       1        0        1           1   \n",
       "\n",
       "     imdb_votes  tmdb_popularity  tmdb_score  \n",
       "0            19               19          15  \n",
       "1             0                2           2  \n",
       "2             2                2           2  \n",
       "3             1                1           1  \n",
       "4            67               72          69  \n",
       "..          ...              ...         ...  \n",
       "104           1                1           1  \n",
       "105           2                3           3  \n",
       "106          21               21          16  \n",
       "107          44               47          40  \n",
       "108           1                1           1  \n",
       "\n",
       "[109 rows x 15 columns]"
      ]
     },
     "execution_count": 14,
     "metadata": {},
     "output_type": "execute_result"
    },
    {
     "data": {
      "text/plain": [
       "<Figure size 1080x648 with 0 Axes>"
      ]
     },
     "metadata": {},
     "output_type": "display_data"
    }
   ],
   "source": [
    "plt.figure(figsize=(15, 9))\n",
    "\n",
    "#send dark style\n",
    "sns.set_style(\"darkgrid\")\n",
    "\n",
    "country_movies = titles.copy()\n",
    "country_movies['production_countries'] = country_movies['production_countries'].apply(literal_eval) #convert to list type\n",
    "country_movies=country_movies.explode('production_countries')\n",
    "\n",
    "#taking out maximum movie count for each country\n",
    "titles_groupby_country=country_movies.groupby(\"production_countries\").count().reset_index()\n",
    "titles_groupby_country\n",
    "#plotting the graph\n",
    "# year = 2013\n",
    "# for i in range(len(c)):\n",
    "#     plt.bar(titles_groupby_year_maxscore.release_year[titles_groupby_year_maxscore.release_year==year+i],\n",
    "#             titles_groupby_year_maxscore.imdb_score[titles_groupby_year_maxscore.release_year==year+i],\n",
    "#             color = c[i],label=titles_groupby_year_maxscore.title[titles_groupby_year_maxscore.release_year==year+i],\n",
    "#             align='edge')\n",
    "# plt.legend()\n",
    "# plt.xlabel('Year')\n",
    "# plt.ylabel('IMDB Score')\n",
    "# plt.title(\"Last 10 years highest IMDB rated movies\")"
   ]
  },
  {
   "cell_type": "markdown",
   "id": "de812604",
   "metadata": {
    "papermill": {
     "duration": 0.010746,
     "end_time": "2023-01-17T10:43:19.407382",
     "exception": false,
     "start_time": "2023-01-17T10:43:19.396636",
     "status": "completed"
    },
    "tags": []
   },
   "source": [
    "> **Rough**"
   ]
  },
  {
   "cell_type": "code",
   "execution_count": 15,
   "id": "3bfcdfbf",
   "metadata": {
    "execution": {
     "iopub.execute_input": "2023-01-17T10:43:19.433080Z",
     "iopub.status.busy": "2023-01-17T10:43:19.431882Z",
     "iopub.status.idle": "2023-01-17T10:43:19.437976Z",
     "shell.execute_reply": "2023-01-17T10:43:19.436556Z"
    },
    "papermill": {
     "duration": 0.022076,
     "end_time": "2023-01-17T10:43:19.440633",
     "exception": false,
     "start_time": "2023-01-17T10:43:19.418557",
     "status": "completed"
    },
    "tags": []
   },
   "outputs": [],
   "source": [
    "#plt.bar(titles_groupby_year_maxscore.release_year[titles_groupby_year_maxscore.release_year>2012],\n",
    "#       titles_groupby_year_maxscore.imdb_score[titles_groupby_year_maxscore.release_year>2012],\n",
    "#      color=c)\n",
    "\n",
    "#movies_color = titles_groupby_year_maxscore.title\n",
    "#plt.legend(titles_groupby_year_maxscore.title, title='Movie names')\n",
    "\n",
    "#titles_groupby_year = titles.groupby('release_year').max()\n",
    "#titles_groupby_year = titles.groupby('release_year')\n",
    "\n",
    "#year = titles_groupby_year[titles_groupby_year.index>2000].index.tolist() \n",
    "#highest_imdb = titles_groupby_year['imdb_score'].max().reset_index('id')\n",
    "#highest_imdb = titles_groupby_year[titles_groupby_year.index>2000].imdb_score.tolist() \n",
    "#highest_imdb\n",
    "#movie_name = titles_groupby_year[titles_groupby_year.index>2000].title.tolist()\n",
    "#titles_groupby_year = titles.groupby('release_year').max()\n",
    "#titles_groupby_year\n"
   ]
  }
 ],
 "metadata": {
  "kernelspec": {
   "display_name": "Python 3",
   "language": "python",
   "name": "python3"
  },
  "language_info": {
   "codemirror_mode": {
    "name": "ipython",
    "version": 3
   },
   "file_extension": ".py",
   "mimetype": "text/x-python",
   "name": "python",
   "nbconvert_exporter": "python",
   "pygments_lexer": "ipython3",
   "version": "3.7.12"
  },
  "papermill": {
   "default_parameters": {},
   "duration": 13.055533,
   "end_time": "2023-01-17T10:43:20.174811",
   "environment_variables": {},
   "exception": null,
   "input_path": "__notebook__.ipynb",
   "output_path": "__notebook__.ipynb",
   "parameters": {},
   "start_time": "2023-01-17T10:43:07.119278",
   "version": "2.3.4"
  }
 },
 "nbformat": 4,
 "nbformat_minor": 5
}
